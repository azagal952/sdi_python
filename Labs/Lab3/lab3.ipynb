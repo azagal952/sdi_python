{
 "cells": [
  {
   "cell_type": "markdown",
   "metadata": {},
   "source": [
    "# Practical session 3 - Brownian motion, Fourier transform\n",
    "\n",
    "Students (pair):\n",
    "- [BLANQUART Ekhi]([link](https://github.com/azagal952)\n",
    "- [DENISSELLE Alexis]([link](https://github.com/AlexisDns23)"
   ]
  },
  {
   "cell_type": "code",
   "metadata": {},
   "source": [
    "%load_ext autoreload\n",
    "%autoreload 2"
   ],
   "outputs": [],
   "execution_count": 1
  },
  {
   "cell_type": "code",
   "metadata": {
    "ExecuteTime": {
     "end_time": "2024-09-26T14:01:10.615498Z",
     "start_time": "2024-09-26T14:01:08.964384Z"
    }
   },
   "source": [
    "import numpy as np\n",
    "import matplotlib.pyplot as plt"
   ],
   "outputs": [],
   "execution_count": 2
  },
  {
   "cell_type": "markdown",
   "metadata": {},
   "source": [
    "## <a name=\"ex1\">Exercise 1: Brownian motion</a>\n",
    "\n",
    "This first exercise consists in generating a Brownian motion on the closed unit ball $\\mathcal{B}(\\mathbf{0}, 1) = \\{ \\mathbf{x} \\mid \\Vert \\mathbf{x} \\Vert  \\leq 1\\}$, focusing first on the 2-D case. The Brownian motion is a random walk with independent, identically distributed Gaussian increments, appearing for instance in thermodynamics and statistical mechanics (to model the evolution of a large particle in a medium composed of a large number of small particles, ...). It is also connected to the diffusion process (Einstein).\n",
    "\n",
    "Let $N \\in \\mathbb{N}^*$, $\\delta > 0$, and $\\mathbf{x} = (x_1, x_2) \\in  \\mathcal{B}(\\mathbf{0}, 1)$. The first $N$ steps of a 2-D discrete-time Brownian motion $W$ can be generated as follows\n",
    "\n",
    "\\begin{align*}\n",
    "    W_0 &= \\mathbf{x}, \\\\\n",
    "    %\n",
    "    (\\forall n \\in \\{1, \\dotsc, N-1 \\}), \\quad W_n &= W_{n−1} + \\sqrt{\\delta} G_n, \\quad G_n \\sim \\mathcal{N}(\\mathbf{0}, \\mathbf{I}),\n",
    "\\end{align*}\n",
    "\n",
    "where $\\mathcal{N}(\\mathbf{0}, \\mathbf{I})$ is a Gaussian distribution with mean $\\mathbf{0}$ and identity covariance matrix.\n",
    "\n",
    "1. Define a random generator `rng`, set to a known state for reproducibility (see session 2)."
   ]
  },
  {
   "cell_type": "markdown",
   "metadata": {},
   "source": [
    "**Answer:**"
   ]
  },
  {
   "cell_type": "code",
   "metadata": {
    "ExecuteTime": {
     "end_time": "2024-09-26T14:01:10.927423Z",
     "start_time": "2024-09-26T14:01:10.774698Z"
    }
   },
   "source": [
    "rng = np.random.default_rng(106620185328035836413676238315917800117)"
   ],
   "outputs": [],
   "execution_count": 3
  },
  {
   "cell_type": "markdown",
   "metadata": {},
   "source": [
    "2. Implement a function `brownian_motion(niter, x, step, rng)` which\n",
    "\n",
    "    - simulates $W$ until it reaches the boundary of $\\mathcal{B}(\\mathbf{0}, 1)$, using a maximum of $N$ iterations (`niter`), a starting point $\\mathbf{x} \\in \\mathcal{B}(\\mathbf{0}, 1)$ (`x`) and step-size $\\delta$ (`step`);\n",
    "    - interpolates linearly between the two last positions to determine the points $W^*$ where the trajectory crosses the boundary (if applicable);\n",
    "    - returns both the whole random walk $W$ and, if appropriate, the point at the intersection between the last segment of the trajectory and $\\mathcal{B}(\\mathbf{0}, 1)$.\n",
    " \n",
    "> Hint: \n",
    "> - you can easily derive a closed form expression for $W^*$, observing that $\\Vert W^* \\Vert^2= 1$ and $W^* \\in [W_{n-1}, W_n]$. \n",
    "> - you can also take a look at [`np.roots`](https://numpy.org/doc/stable/reference/generated/numpy.roots.html?highlight=roots#numpy.roots) if needed."
   ]
  },
  {
   "cell_type": "markdown",
   "metadata": {},
   "source": [
    "**Answer:**"
   ]
  },
  {
   "cell_type": "code",
   "metadata": {
    "ExecuteTime": {
     "end_time": "2024-09-26T14:01:11.116818Z",
     "start_time": "2024-09-26T14:01:10.979966Z"
    }
   },
   "source": [
    "def brownian_motion(niter, x, step, rng):\n",
    "    \"\"\"\n",
    "    Computes the Brownian motion, starting from {x}, with maximum {step} steps.\n",
    "\n",
    "    Args:\n",
    "        niter: maximum number of iterations\n",
    "        x: starting position\n",
    "        step: maximum number of steps\n",
    "        rng: random number generator\n",
    "\n",
    "    Returns:\n",
    "        w: the random walk\n",
    "        x_bord: the crossing point, if applicable, 0 otherwise\n",
    "    \"\"\"\n",
    "    norm = np.linalg.norm(x)\n",
    "    if norm > 1: raise ValueError(\"The starting position should be in B(0,1).\")\n",
    "    \n",
    "    w = [x]\n",
    "    sqrt_step = np.sqrt(step)\n",
    "    n = 0\n",
    "    x_bord = np.array([])\n",
    "    \n",
    "    while n < niter and norm <= 1:\n",
    "        g = rng.multivariate_normal(np.zeros(2), np.eye(2))\n",
    "        x = x + sqrt_step * g\n",
    "        norm = np.linalg.norm(x)\n",
    "        w.append(x)\n",
    "        n += 1\n",
    "    if norm > 1:\n",
    "        ## We use np.roots to find the crossing point\n",
    "        a = np.linalg.norm(w[-2] - w[-1])**2\n",
    "        b = 2 * w[-2].dot(w[-1] - w[-2])\n",
    "        c = np.linalg.norm(w[-2])**2 - 1\n",
    "        t = np.roots([a, b, c])[1]\n",
    "        x_bord = t * w[-1] + (1 - t) * w[-2]\n",
    "\n",
    "    return np.array(w), x_bord"
   ],
   "outputs": [],
   "execution_count": 4
  },
  {
   "cell_type": "markdown",
   "metadata": {},
   "source": [
    "3. Display the trajectory of a Brownian motion starting from $\\mathbf{x} = (0.2, 0.4)$, using $\\delta = 10^{-2}$, $N = 1000$. Display the unit circle on the same figure, and highlight the intersection with the boundary of the domain (whenever it exists).\n",
    "\n",
    "> Hint: to draw the unit disk, you can use for instance:\n",
    "> ```python\n",
    "> circle = plt.Circle((0,0), 1)\n",
    "> fig, ax = plt.subplots()\n",
    "> plt.xlim(-1.25,1.25)\n",
    "> plt.ylim(-1.25,1.25)\n",
    "> plt.grid(linestyle = \"--\", zorder = 1)\n",
    "> ax.set_aspect(1)\n",
    "> ax.add_artist(circle)\n",
    "> ```"
   ]
  },
  {
   "cell_type": "markdown",
   "metadata": {},
   "source": [
    "**Answer:**"
   ]
  },
  {
   "cell_type": "code",
   "metadata": {
    "ExecuteTime": {
     "end_time": "2024-09-26T14:01:11.566507Z",
     "start_time": "2024-09-26T14:01:11.151258Z"
    }
   },
   "source": [
    "# Computing the brownian motion\n",
    "walk, intersection = brownian_motion(1000, np.array([.2, .4]), 1e-2, rng)\n",
    "\n",
    "# Plotting the trajectory\n",
    "fig, ax = plt.subplots(figsize=(12, 6))\n",
    "\n",
    "plt.xlim(-1.25,1.25)\n",
    "plt.ylim(-1.25,1.25)\n",
    "\n",
    "ax.plot(walk[:,0], walk[:,1], marker='o', color='red', label=\"Random walk\")\n",
    "\n",
    "if intersection.size > 0:\n",
    "    plt.plot(intersection[0], intersection[1], marker='o', color='yellow', label=\"Intersection\")\n",
    "\n",
    "circle = plt.Circle((0, 0), 1, fill=False, color='blue', linewidth=2)\n",
    "ax.add_artist(circle)\n",
    "\n",
    "ax.grid(linestyle=\"--\", zorder=1)\n",
    "ax.set_aspect(1)\n",
    "\n",
    "plt.legend()\n",
    "plt.title(\"Random walk in 2D with the possible intersection point\")\n",
    "plt.show()"
   ],
   "outputs": [
    {
     "data": {
      "text/plain": [
       "<Figure size 864x432 with 1 Axes>"
      ],
      "image/png": "[encoded data removed]"
     },
     "metadata": {
      "needs_background": "light"
     },
     "output_type": "display_data"
    }
   ],
   "execution_count": 5
  },
  {
   "cell_type": "markdown",
   "metadata": {},
   "source": [
    "4. Represent, on the same figure, 4 other trajectories of $W$ with the same parameters."
   ]
  },
  {
   "cell_type": "markdown",
   "metadata": {},
   "source": [
    "**Answer:**"
   ]
  },
  {
   "cell_type": "code",
   "metadata": {
    "ExecuteTime": {
     "end_time": "2024-09-26T14:01:11.973806Z",
     "start_time": "2024-09-26T14:01:11.601573Z"
    }
   },
   "source": [
    "# your code\n",
    "fig, ax = plt.subplots(figsize=(12, 6))\n",
    "\n",
    "plt.xlim(-1.25,1.25)\n",
    "plt.ylim(-1.25,1.25)\n",
    "\n",
    "for i in range(5):\n",
    "    walk, intersection = brownian_motion(1000, np.array([.2, .4]), 1e-2, rng)\n",
    "    walk = np.array(walk)\n",
    "    print(intersection)\n",
    "\n",
    "    ax.plot(walk[:,0], walk[:,1], marker='o', label=f\"Random walk {i+1}\")\n",
    "\n",
    "    if intersection.size > 0:\n",
    "        plt.plot(intersection[0], intersection[1], marker='o', color='yellow')\n",
    "\n",
    "circle = plt.Circle((0, 0), 1, fill=False, color='blue', linewidth=2)\n",
    "ax.add_artist(circle)\n",
    "\n",
    "ax.grid(linestyle=\"--\", zorder=1)\n",
    "ax.set_aspect(1)\n",
    "\n",
    "plt.legend(loc='best')\n",
    "plt.title(\"Drawing of 5 random walks for the same inputs variables\")\n",
    "plt.show()"
   ],
   "outputs": [
    {
     "name": "stdout",
     "output_type": "stream",
     "text": [
      "[0.26268136 0.96488264]\n",
      "[ 0.63446411 -0.77295232]\n",
      "[-0.93601895 -0.3519496 ]\n",
      "[-0.06002138  0.99819709]\n",
      "[0.26143808 0.96522025]\n"
     ]
    },
    {
     "data": {
      "text/plain": [
       "<Figure size 864x432 with 1 Axes>"
      ],
      "image/png": "[encoded data removed]"
     },
     "metadata": {
      "needs_background": "light"
     },
     "output_type": "display_data"
    }
   ],
   "execution_count": 6
  },
  {
   "cell_type": "markdown",
   "metadata": {},
   "source": [
    "5. [Bonus] Generalize the procedure to a $M$-dimensional Brownian motion, $M > 2$."
   ]
  },
  {
   "cell_type": "markdown",
   "metadata": {},
   "source": [
    "**Answer:**"
   ]
  },
  {
   "cell_type": "code",
   "metadata": {
    "ExecuteTime": {
     "end_time": "2024-09-26T14:01:12.144850Z",
     "start_time": "2024-09-26T14:01:11.994530Z"
    }
   },
   "source": [
    "def brownian_motion(niter, x, step, rng):\n",
    "    \"\"\"\n",
    "    Computes a Brownian motion confined in B(0,1) in a maximum number of steps. If the trajectory goes out of the closed unit ball, computes where the two last points cross the border.\n",
    "    The starting point must be in B(0,1) for the function to work, otherwise it raises a ValueError.\n",
    "\n",
    "    Args:\n",
    "        niter (int): maximum number of iterations\n",
    "        x: starting position, shape (M,1)\n",
    "        step (float): maximum number of steps\n",
    "        rng: random number generator\n",
    "\n",
    "    Returns:\n",
    "        w: the random walk\n",
    "        x_bord: the crossing point, if applicable, an empty array otherwise\n",
    "    \"\"\"\n",
    "    norm = np.linalg.norm(x)\n",
    "    if norm > 1: raise ValueError(\"The starting position should be in B(0,1).\")\n",
    "    \n",
    "    dim = x.shape[0]\n",
    "    w = [x]\n",
    "    sqrt_step = np.sqrt(step)\n",
    "    n = 0\n",
    "    x_bord = np.array([])\n",
    "    \n",
    "    while n < niter and norm <= 1:\n",
    "        g = rng.multivariate_normal(np.zeros(dim), np.eye(dim))\n",
    "        x = x + sqrt_step * g\n",
    "        norm = np.linalg.norm(x)\n",
    "        w.append(x)\n",
    "        n += 1\n",
    "    if norm > 1:\n",
    "        ## We use np.roots to find the crossing point\n",
    "        a = np.linalg.norm(w[-2] - w[-1])**2\n",
    "        b = 2 * w[-2].dot(w[-1] - w[-2])\n",
    "        c = np.linalg.norm(w[-2])**2 - 1\n",
    "        t = np.roots([a, b, c])[1]\n",
    "        x_bord = t * w[-1] + (1 - t) * w[-2]\n",
    "\n",
    "    return np.array(w), x_bord"
   ],
   "outputs": [],
   "execution_count": 7
  },
  {
   "metadata": {
    "ExecuteTime": {
     "end_time": "2024-09-26T14:01:12.363710Z",
     "start_time": "2024-09-26T14:01:12.170160Z"
    }
   },
   "cell_type": "code",
   "source": [
    "x0 = np.array([0, 0, 0])\n",
    "brownian_motion(1000, x0, 1e-2, rng)"
   ],
   "outputs": [
    {
     "data": {
      "text/plain": [
       "(array([[ 0.        ,  0.        ,  0.        ],\n",
       "        [ 0.08040809,  0.04274763, -0.04509369],\n",
       "        [ 0.04968119,  0.03068872,  0.03760998],\n",
       "        [ 0.20248612,  0.2783182 ,  0.11840597],\n",
       "        [ 0.14793114,  0.13511992,  0.02444892],\n",
       "        [ 0.21394907,  0.21977047, -0.17260872],\n",
       "        [ 0.36424677,  0.28012328, -0.04712325],\n",
       "        [ 0.34997693,  0.34952674, -0.05988593],\n",
       "        [ 0.34231953,  0.26599259, -0.10866054],\n",
       "        [ 0.40243211,  0.38078751, -0.09313957],\n",
       "        [ 0.37050412,  0.28879227,  0.00162077],\n",
       "        [ 0.25004328,  0.20721307,  0.0396855 ],\n",
       "        [ 0.26680836,  0.08589577,  0.17522822],\n",
       "        [ 0.3790253 , -0.17166913,  0.11871669],\n",
       "        [ 0.35095071, -0.26586012,  0.00900239],\n",
       "        [ 0.0963668 , -0.25019207, -0.01532984],\n",
       "        [ 0.17739349, -0.28166916, -0.03112859],\n",
       "        [ 0.27292779, -0.39633099, -0.00235058],\n",
       "        [ 0.30866289, -0.36201511,  0.13270871],\n",
       "        [ 0.25686847, -0.45689072,  0.05187805],\n",
       "        [ 0.312036  , -0.5088448 ,  0.08506249],\n",
       "        [ 0.26202735, -0.56069305,  0.16806368],\n",
       "        [ 0.35688773, -0.55771641,  0.21294798],\n",
       "        [ 0.49862255, -0.55520464,  0.24348143],\n",
       "        [ 0.42728688, -0.55877223,  0.21516689],\n",
       "        [ 0.61276757, -0.63834124,  0.16518232],\n",
       "        [ 0.53812072, -0.69362815,  0.10070155],\n",
       "        [ 0.46627959, -0.79999609,  0.03077551],\n",
       "        [ 0.60279114, -0.74337412,  0.1371258 ],\n",
       "        [ 0.75486785, -0.76684184,  0.25093536]]),\n",
       " array([ 0.64114182, -0.74929221,  0.16582628]))"
      ]
     },
     "execution_count": 8,
     "metadata": {},
     "output_type": "execute_result"
    }
   ],
   "execution_count": 8
  },
  {
   "cell_type": "markdown",
   "metadata": {},
   "source": [
    "---\n",
    "## <a name=\"ex2\">Exercise 2: 2D Fourier transform, ideal low-pass filter and linear convolution</a>\n",
    "\n",
    "In this exercise, we explore the use of the 2-dimensional Fourier transform to filter an image, and convolve it with a blurring kernel.\n",
    "\n",
    "1\\. Load and display one of the images contained in the `img/` folder. The image will be denoted by $\\mathbf{X} \\in \\mathbb{R}^{M_1 \\times N_1}$ in the rest of this exercise."
   ]
  },
  {
   "cell_type": "markdown",
   "metadata": {},
   "source": [
    "**Answer:**"
   ]
  },
  {
   "cell_type": "code",
   "metadata": {
    "ExecuteTime": {
     "end_time": "2024-09-26T14:01:12.522313Z",
     "start_time": "2024-09-26T14:01:12.382438Z"
    }
   },
   "source": [
    "# your code"
   ],
   "outputs": [],
   "execution_count": 9
  },
  {
   "cell_type": "markdown",
   "metadata": {},
   "source": [
    "2\\. Let $\\mathcal{F}$ denote the 2D discrete Fourier transform. Compute $|\\mathcal{F}(\\mathbf{X})|^2$, the spectrum of the image $\\mathbf{X} \\in \\mathbb{R}^{M_1 \\times N_1}$ (i.e., the term-wise squared absolute value of its Fourier transform) loaded in 1. Display the result in logarithmic scale.\n",
    "\n",
    "a) In this representation, where is the pixel of the spectrum associated with the null frequency located?\n",
    "    \n",
    "b) Take a look at the documentation of `np.fft.fftshift`. Use it to ensure that the null frequency is located at the center of the image. "
   ]
  },
  {
   "cell_type": "markdown",
   "metadata": {},
   "source": [
    "**Answer:**"
   ]
  },
  {
   "cell_type": "code",
   "metadata": {
    "ExecuteTime": {
     "end_time": "2024-09-26T14:01:12.709851Z",
     "start_time": "2024-09-26T14:01:12.542960Z"
    }
   },
   "source": [
    "# your code"
   ],
   "outputs": [],
   "execution_count": 10
  },
  {
   "cell_type": "markdown",
   "metadata": {},
   "source": [
    "3\\. \n",
    "    a) Create a function `ideal_lowpass_filter` to filter $\\mathbf{X}$ by an ideal low-pass filter. The filter preserves Fourier coefficients associated to frequencies below a cutoff specified in each direction ($\\mathbf{f}_c = (f_{c,y}, f_{c,x})$), and sets others to zero. For simplicity, $f_{c,y}$ and $f_{c,x}$ can be expressed as a number of samples to be kept along each dimension (e.g., $\\mathbf{f}_c = (50,50)$).\n",
    "\n",
    "b) Display the filtered image for 2 different values of $\\mathbf{f}_c$. What do you observe as the cutoff frequencies increase?\n",
    "    \n",
    "> Warning: beware the type of the array after `np.fft.fft2`, do not hesitate to specify the type if you make copies from this array\n",
    "> ```python\n",
    "> a = np.zeros((2,2), dtype=np.complex)\n",
    "> ...\n",
    "> ```"
   ]
  },
  {
   "cell_type": "markdown",
   "metadata": {},
   "source": [
    "**Answer:**"
   ]
  },
  {
   "cell_type": "code",
   "metadata": {
    "ExecuteTime": {
     "end_time": "2024-09-26T14:01:12.864901Z",
     "start_time": "2024-09-26T14:01:12.744204Z"
    }
   },
   "source": [
    "# your code"
   ],
   "outputs": [],
   "execution_count": 11
  },
  {
   "cell_type": "markdown",
   "metadata": {},
   "source": [
    "4\\. Let $\\mathbf{H} \\in \\mathbb{R}^{M_2\\times N_2}$ be a 2-D Gaussian kernel, obtained as the outer product of two 1-D Gaussian windows $\\mathbf{w}_y \\in \\mathbb{R}^{M_2}$ and $\\mathbf{w}_x \\in \\mathbb{R}^{N_2}$, of standard deviation $\\sigma_y = 10$ and $\\sigma_x = 10$, respectively:\n",
    "\n",
    "\\begin{equation}\n",
    "    \\mathbf{H} = \\mathbf{w}_y \\mathbf{w}_x^T.\n",
    "\\end{equation}\n",
    "\n",
    "Let $M = M_1+M_2-1$ and $N =  N_1+N_2-1$. From the discrete convolution theorem, the linear convolution between $\\mathbf{H}$ and $\\mathbf{X}$ can be computed as follows\n",
    "\n",
    "\\begin{equation}\n",
    "    \\mathbf{X} \\star \\mathbf{H} = \\mathcal{F}^{-1} \\Big( \\mathcal{F}\\big(P_1(\\mathbf{X})\\big) \\odot \\mathcal{F}\\big(P_2(\\mathbf{H})\\big) \\Big) \\in \\mathbb{R}^{M\\times N},\n",
    "\\end{equation}\n",
    "\n",
    "where $P_i: \\mathbb{R}^{M_i \\times N_i} \\rightarrow \\mathbb{R}^{M \\times N}$, $i \\in \\{1, 2\\}$, are 0-padding operators, $\\odot$ is the Hadamard (= term-wise) product, $\\mathcal{F}^{-1}$ is the 2D discrete inverse Fourier transform.\n",
    "\n",
    "Compute and display $\\mathbf{X} \\star \\mathbf{H}$, for $M_2 = N_2 = 10$. What do you observe?\n",
    "\n",
    "> Hint: \n",
    "> - the usual 0-padding procedure in image space consists in appending trailing zeros. For instance (in 1D), 0-padding a vector $\\mathbf{x} \\in \\mathbb{R}^N_1$ to the size $N>N_1$ corresponds to creating the vector\n",
    "\\begin{bmatrix}\n",
    "\\mathbf{x} \\\\\n",
    "\\mathbf{0}_{N-N_1}\n",
    "\\end{bmatrix}\n",
    "> - since the input images are real, $\\mathcal{F}(\\mathbf{x})$ and $\\mathcal{F}(\\mathbf{h})$ are Hermitian symmetric. In this case, a more efficient version of `np.fft.fft2` can be used, computing only quarter of the Fourier coefficients (half of the Fourier coefficients in each direction): [`np.fft.rfft2`](https://numpy.org/doc/stable/reference/generated/numpy.fft.rfft2.html?highlight=rfft#numpy.fft.rfft2). Its inverse, [`np.fft.irfft2`](https://numpy.org/doc/stable/reference/generated/numpy.fft.irfft2.html#numpy.fft.irfft2), also ensures that the output is real;\n",
    "> - the 2D Gaussian window can be generated as the outer product of two 1D Gaussian windows (one window for each dimension);\n",
    "> - you can take a look at [scipy.signal.windows.gaussian](https://docs.scipy.org/doc/scipy/reference/generated/scipy.signal.windows.gaussian.html#scipy.signal.windows.gaussian) and [np.newaxis](https://numpy.org/doc/stable/reference/constants.html?highlight=newaxis#numpy.newaxis)."
   ]
  },
  {
   "cell_type": "markdown",
   "metadata": {},
   "source": [
    "**Answer:**"
   ]
  },
  {
   "cell_type": "code",
   "metadata": {
    "ExecuteTime": {
     "end_time": "2024-09-26T14:01:13.005773Z",
     "start_time": "2024-09-26T14:01:12.883086Z"
    }
   },
   "source": [
    "# your code"
   ],
   "outputs": [],
   "execution_count": 12
  }
 ],
 "metadata": {
  "kernelspec": {
   "display_name": "Python 3.8.10 64-bit",
   "language": "python",
   "name": "python3"
  },
  "language_info": {
   "codemirror_mode": {
    "name": "ipython",
    "version": 3
   },
   "file_extension": ".py",
   "mimetype": "text/x-python",
   "name": "python",
   "nbconvert_exporter": "python",
   "pygments_lexer": "ipython3",
   "version": "3.8.8"
  },
  "vscode": {
   "interpreter": {
    "hash": "916dbcbb3f70747c44a77c7bcd40155683ae19c65e1c03b4aa3499c5328201f1"
   }
  }
 },
 "nbformat": 4,
 "nbformat_minor": 4
}
