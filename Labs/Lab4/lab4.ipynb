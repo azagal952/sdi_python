{
 "cells": [
  {
   "cell_type": "markdown",
   "metadata": {},
   "source": [
    "# Practical session 4 - K-nearest neighbours (K-NN) classification with numpy, scikit-learn, cython and numba\n",
    "\n",
    "Students (pair):\n",
    "- [BLANQUART Ekhi](https://github.com/azagal952)\n",
    "- [DENISSELLE Alexis](https://github.com/AlexisDns23)"
   ]
  },
  {
   "cell_type": "markdown",
   "metadata": {},
   "source": [
    "**Useful references for this lab**:\n",
    "\n",
    "[1] scikit-learn: [documentation](https://scikit-learn.org/stable/modules/neighbors.html?highlight=knn%20classification)\n",
    "\n",
    "[2] `numba`: [documentation](http://numba.pydata.org/) \n",
    "\n",
    "[3] cython: [a very useful tutorial](https://cython.readthedocs.io/en/latest/src/userguide/numpy_tutorial.html#numpy-tutorial), and [another one](http://docs.cython.org/en/latest/src/tutorial/cython_tutorial.html)\n",
    "\n",
    "\n",
    "\n",
    "## <a name=\"content\">Contents</a>\n",
    "- [Exercise 1: KNN classification with numpy and sklearn](#ex1)\n",
    "- [Exercise 2: Code acceleration with cython](#ex2)\n",
    "- [Exercise 3: Code acceleration with numba](#ex3)\n",
    "---"
   ]
  },
  {
   "cell_type": "code",
   "metadata": {
    "ExecuteTime": {
     "end_time": "2024-10-14T14:59:05.983926Z",
     "start_time": "2024-10-14T14:59:03.287271Z"
    }
   },
   "source": [
    "%load_ext autoreload\n",
    "%autoreload 2\n",
    "\n",
    "%load_ext Cython"
   ],
   "outputs": [],
   "execution_count": 2
  },
  {
   "cell_type": "code",
   "metadata": {
    "ExecuteTime": {
     "end_time": "2024-10-14T15:19:05.435372Z",
     "start_time": "2024-10-14T15:19:05.216350Z"
    }
   },
   "source": [
    "import numpy as np\n",
    "import matplotlib.pyplot as plt\n",
    "from sklearn.neighbors import KNeighborsClassifier\n",
    "from sklearn.model_selection import train_test_split\n",
    "from sklearn.metrics import confusion_matrix, ConfusionMatrixDisplay\n",
    "from numba import jit"
   ],
   "outputs": [],
   "execution_count": 26
  },
  {
   "cell_type": "markdown",
   "metadata": {},
   "source": [
    "## <a name=\"ex1\">Exercise 1: K-Nearest Neighbours (K-NN) classification with numpy and scikit-learn</a> [(&#8593;)](#content)"
   ]
  },
  {
   "cell_type": "markdown",
   "metadata": {},
   "source": [
    "This session is a first introduction to classification using the most intuitive non parametric method: the $K$-nearest neighbours. The principle is [the following](https://scikit-learn.org/stable/modules/neighbors.html?highlight=knn%20classification). A set of labelled observations is given as a learning set. A classification taks then consists in assigning a label to any new observation. In particular, the K-NN approach consists in assigning to the observation the most frequent label among its $K$ nearest neighbours taken in the training set."
   ]
  },
  {
   "cell_type": "markdown",
   "metadata": {},
   "source": [
    "### A. Validation on synthetic data\n",
    "\n",
    "Load the training and test datasets `data/synth_train.txt` and `data/synth_test.txt`. Targets belong to the set $\\{1,2\\}$ and entries belong to $\\mathbb{R}^2$. The file `data/synth_train.txt` contain 100 training data samples, and `data/synth_test.txt` contains 200 test samples, where:\n",
    "\n",
    "- the 1st column contains the label of the class the sample;\n",
    "- columns 2 & 3 contain the coordinates of each sample (in $\\mathbb{R}^2$).\n",
    "\n",
    "Useful commands can be found below."
   ]
  },
  {
   "cell_type": "markdown",
   "metadata": {},
   "source": [
    "```python\n",
    "# load the training set\n",
    "train = np.loadtxt('data/synth_train.txt')  #...,delimiter=',') if there are ',' as delimiters\n",
    "class_train = train[:,0]\n",
    "x_train = train[:,1:]\n",
    "N_train = train.shape[0]\n",
    "```"
   ]
  },
  {
   "cell_type": "markdown",
   "metadata": {},
   "source": [
    "```python\n",
    "# load the test set\n",
    "test = np.loadtxt('/datasynth_test.txt') \n",
    "class_test_1 = test[test[:,0]==1]\n",
    "class_test_2 = test[test[:,0]==2]\n",
    "x_test = test[:,1:]\n",
    "N_test = test.shape[0]\n",
    "```"
   ]
  },
  {
   "cell_type": "markdown",
   "metadata": {},
   "source": [
    "1\\. Display the training set and distinguish the two classes. \n",
    "\n",
    "> Hint: useful functions include `matplotlib.pyplot.scatter` or `matplotlib.pyplot.plot`."
   ]
  },
  {
   "cell_type": "markdown",
   "metadata": {},
   "source": [
    "**Answer:**"
   ]
  },
  {
   "cell_type": "code",
   "metadata": {
    "ExecuteTime": {
     "end_time": "2024-10-14T14:59:18.675530Z",
     "start_time": "2024-10-14T14:59:18.420432Z"
    }
   },
   "source": [
    "# load the training set\n",
    "train = np.loadtxt('data/synth_train.txt')\n",
    "class_train = train[:, 0].astype(int) # labels of the train set\n",
    "class_train_1 = train[train[:, 0] == 1]\n",
    "class_train_2 = train[train[:, 0] == 2]\n",
    "x_train = train[:, 1:]\n",
    "\n",
    "# load the test set\n",
    "test = np.loadtxt('data/synth_test.txt')\n",
    "class_test = test[:, 0].astype(int)\n",
    "class_test_1 = test[test[:, 0] == 1]\n",
    "class_test_2 = test[test[:, 0] == 2]\n",
    "x_test = test[:, 1:]\n",
    "\n",
    "N_train = train.shape[0]\n",
    "N_test = test.shape[0]"
   ],
   "outputs": [],
   "execution_count": 4
  },
  {
   "cell_type": "code",
   "metadata": {
    "ExecuteTime": {
     "end_time": "2024-10-14T14:59:19.348851Z",
     "start_time": "2024-10-14T14:59:18.730077Z"
    }
   },
   "source": [
    "plt.scatter(class_train_1[:, 1], class_train_1[:, 2], color='red',  label='Class 1')\n",
    "plt.scatter(class_train_2[:, 1], class_train_2[:, 2], color='blue', label='Class 2')\n",
    "x=np.array([[-2,0],[1.5,3.7]])\n",
    "plt.plot(x[:,0],x[:,1], '-', color='purple')\n",
    "plt.legend(loc = 'best')\n",
    "plt.show()"
   ],
   "outputs": [
    {
     "data": {
      "text/plain": [
       "<Figure size 640x480 with 1 Axes>"
      ],
      "image/png": "[encoded data removed]"
     },
     "metadata": {},
     "output_type": "display_data"
    }
   ],
   "execution_count": 5
  },
  {
   "metadata": {},
   "cell_type": "markdown",
   "source": "We distinguished the two classes by using some colors for the scatter plots. We also plotted the frontier that we roughly see to the eye, in purple."
  },
  {
   "cell_type": "markdown",
   "metadata": {},
   "source": [
    "2\\. Implement the K-nearest neighbours algorithm for classification.\n",
    "\n",
    "> Hint: \n",
    "> - useful functions include `numpy.linalg.norm`, `numpy.argsort`, `numpy.bincount`;\n",
    "> - implement the algorithm as a function rather than an object. This will drastically simplify the acceleration step using Cython.\n",
    "> - for an optimized partial sorting procedure, you may have a look at the [`bottleneck.argpartition` function](https://bottleneck.readthedocs.io/en/latest/reference.html#bottleneck.argpartition)."
   ]
  },
  {
   "cell_type": "markdown",
   "metadata": {},
   "source": [
    "**Answer:**"
   ]
  },
  {
   "cell_type": "code",
   "metadata": {
    "ExecuteTime": {
     "end_time": "2024-10-14T14:59:19.696691Z",
     "start_time": "2024-10-14T14:59:19.488747Z"
    }
   },
   "source": [
    "def KNN_algorithm(x_train, class_train, x_test, k):\n",
    "    \"\"\"Perform the K-nearest neighbours algorithm for classification\n",
    "\n",
    "    Args:\n",
    "        x_train (np.ndarray): matrix of coordinates of the train set\n",
    "        class_train (np.ndarray): labels of points in train set\n",
    "        x_test (np.ndarray): matrix of coordinates of the test set\n",
    "        k (int): Number of nearest neighbours to consider\n",
    "\n",
    "    Returns:\n",
    "        np.ndarray: predicted labels for x_test\n",
    "    \"\"\"\n",
    "    class_test_pred = np.zeros(x_test.shape[0], dtype=class_train.dtype)\n",
    "\n",
    "    for i, test_point in enumerate(x_test):\n",
    "        ## For each point of the test set, we compute the distance between each point of x_train and this test point.\n",
    "        distances = np.linalg.norm(x_train - test_point, axis=1)\n",
    "\n",
    "        ## We select indexes of the k points of x_train for which the distance with the point of x_test is minimal\n",
    "        nearest_neighbor_ids = np.argsort(distances)[:k]\n",
    "\n",
    "        nearest_neighbor_labels = class_train[nearest_neighbor_ids]\n",
    "        class_test_pred[i] = np.bincount(nearest_neighbor_labels).argmax()\n",
    "\n",
    "    return class_test_pred"
   ],
   "outputs": [],
   "execution_count": 6
  },
  {
   "cell_type": "markdown",
   "metadata": {},
   "source": [
    "3\\. Compute the error rate on the training set and the test set for $K \\in \\{1,2, \\dotsc, 20\\}$. Display the classification result (see 1.) for the configuration with the lowest error rate."
   ]
  },
  {
   "cell_type": "markdown",
   "metadata": {},
   "source": [
    "**Answer:**"
   ]
  },
  {
   "cell_type": "code",
   "metadata": {
    "ExecuteTime": {
     "end_time": "2024-10-14T15:02:18.455639Z",
     "start_time": "2024-10-14T15:02:17.956647Z"
    }
   },
   "source": [
    "error_rate = np.zeros(20)\n",
    "for k in range (1,21):\n",
    "    class_test_pred=KNN_algorithm(x_train, class_train, x_test, k)\n",
    "    sum=np.sum(class_test_pred!=class_test)\n",
    "    error_rate[k - 1] = sum/N_test\n",
    "    print(f\"Error rate for {k}-NN algorithm is:{error_rate[k - 1]}\")\n",
    "\n",
    "plt.plot(np.arange(1,21),error_rate)\n",
    "plt.xticks(range(1,21))\n",
    "plt.xlabel('K values')\n",
    "plt.ylabel(\"Error rate\")\n",
    "plt.title(\"Error rate plot for different $K$ values\")\n",
    "plt.show()"
   ],
   "outputs": [
    {
     "name": "stdout",
     "output_type": "stream",
     "text": [
      "Error rate for 1-NN algorithm is:0.065\n",
      "Error rate for 2-NN algorithm is:0.06\n",
      "Error rate for 3-NN algorithm is:0.045\n",
      "Error rate for 4-NN algorithm is:0.05\n",
      "Error rate for 5-NN algorithm is:0.06\n",
      "Error rate for 6-NN algorithm is:0.055\n",
      "Error rate for 7-NN algorithm is:0.07\n",
      "Error rate for 8-NN algorithm is:0.07\n",
      "Error rate for 9-NN algorithm is:0.075\n",
      "Error rate for 10-NN algorithm is:0.075\n",
      "Error rate for 11-NN algorithm is:0.09\n",
      "Error rate for 12-NN algorithm is:0.075\n",
      "Error rate for 13-NN algorithm is:0.08\n",
      "Error rate for 14-NN algorithm is:0.075\n",
      "Error rate for 15-NN algorithm is:0.075\n",
      "Error rate for 16-NN algorithm is:0.075\n",
      "Error rate for 17-NN algorithm is:0.08\n",
      "Error rate for 18-NN algorithm is:0.08\n",
      "Error rate for 19-NN algorithm is:0.08\n",
      "Error rate for 20-NN algorithm is:0.08\n"
     ]
    },
    {
     "data": {
      "text/plain": [
       "<Figure size 640x480 with 1 Axes>"
      ],
      "image/png": "[encoded data removed]"
     },
     "metadata": {},
     "output_type": "display_data"
    }
   ],
   "execution_count": 9
  },
  {
   "metadata": {},
   "cell_type": "markdown",
   "source": "The error rate is at its minimum for $K = 3$. Therefore, we plotted the results for this $K$ value."
  },
  {
   "cell_type": "code",
   "metadata": {
    "ExecuteTime": {
     "end_time": "2024-10-14T15:02:23.722745Z",
     "start_time": "2024-10-14T15:02:23.328102Z"
    }
   },
   "source": [
    "class_test_pred=KNN_algorithm(x_train, class_train, x_test, 3)\n",
    "\n",
    "false_positive = test[(test[:, 0] == 1) & (class_test_pred == 2)]\n",
    "false_negative = test[(test[:, 0] == 2) & (class_test_pred == 1)]\n",
    "true_positive  = test[(test[:, 0] == 2) & (class_test_pred == 2)]\n",
    "true_negative  = test[(test[:, 0] == 1) & (class_test_pred == 1)]\n",
    "\n",
    "\n",
    "plt.scatter(false_positive[:, 1], false_positive[:, 2], color='green', marker='x',  label='Class 1, predicted 2')\n",
    "plt.scatter(false_negative[:, 1], false_negative[:, 2], color='yellow', marker='x', label='Class 2, predicted 1')\n",
    "plt.scatter(true_positive[:, 1], true_positive[:, 2], color='red',  label='Class 1, predicted 1')\n",
    "plt.scatter(true_negative[:, 1], true_negative[:, 2], color='blue', label='Class 2, predicted 2')\n",
    "x=np.array([[-2,0],[1.5,3.7]])\n",
    "plt.plot(x[:,0],x[:,1], '-', color='purple')\n",
    "plt.legend(loc = 'best')\n",
    "plt.title(\"Classification algorithm results for $K = 3$\")\n",
    "plt.show()"
   ],
   "outputs": [
    {
     "data": {
      "text/plain": [
       "<Figure size 640x480 with 1 Axes>"
      ],
      "image/png": "[encoded data removed]"
     },
     "metadata": {},
     "output_type": "display_data"
    }
   ],
   "execution_count": 10
  },
  {
   "cell_type": "markdown",
   "metadata": {},
   "source": [
    "4\\. Comment on your results. Which value of $K$ seems optimal ?\n"
   ]
  },
  {
   "cell_type": "markdown",
   "metadata": {},
   "source": [
    "**Answer:**"
   ]
  },
  {
   "cell_type": "markdown",
   "metadata": {
    "ExecuteTime": {
     "end_time": "2024-10-03T06:16:43.947240Z",
     "start_time": "2024-10-03T06:16:43.796607Z"
    }
   },
   "source": [
    "We still have our guessed frontier in purple. The crosses represent the errors, and we coloured them for the different categories (false positive and false negative).\n",
    "\n",
    "As previously said, the error rate is minimal for $K=3$. We observe that the errors of prediction are mostly made around the decision boundary. It is logical, as this is where this is the harder to 'understand' how is shaped the real frontier. In a classification context, $K$ acts as a parameter of regularization (for $K=1$, the frontier is rough, and for a big $K$, it is smooth)."
   ]
  },
  {
   "cell_type": "markdown",
   "metadata": {},
   "source": [
    "5\\. Compare the results of you implementation with those of [`sklearn.neighbors.KNeighborsClassifier`](https://scikit-learn.org/stable/modules/generated/sklearn.neighbors.KNeighborsClassifier.html?highlight=kneighborsclassifier#sklearn.neighbors.KNeighborsClassifier). Compare the runtime of these two versions using the [`timeit`](https://docs.python.org/3/library/timeit.html) module (see session 1)."
   ]
  },
  {
   "cell_type": "markdown",
   "metadata": {},
   "source": [
    "**Answer:**"
   ]
  },
  {
   "cell_type": "code",
   "execution_count": 11,
   "metadata": {
    "ExecuteTime": {
     "end_time": "2024-10-11T07:08:09.152080Z",
     "start_time": "2024-10-11T07:08:08.905991Z"
    }
   },
   "outputs": [
    {
     "name": "stdout",
     "output_type": "stream",
     "text": [
      "Custom KNN predictions: [2 2 2 2 2 2 2 2 2 1 2 1 1 2 1 2 2 1 1 2 2 1 2 1 2 2 1 2 2 1 2 1 2 1 2 2 1\n",
      " 1 2 2 1 2 2 2 2 2 2 1 1 2 2 1 1 1 2 2 1 2 2 2 2 2 2 1 2 2 2 1 2 2 2 1 2 2\n",
      " 1 1 2 2 1 1 1 2 1 2 2 2 1 1 2 2 2 2 2 2 2 2 2 2 1 2 2 2 2 2 2 2 2 1 2 2 2\n",
      " 2 2 2 2 2 1 2 2 2 2 2 2 1 2 1 2 2 2 2 2 2 2 2 1 1 2 2 2 2 2 2 1 1 1 2 2 2\n",
      " 1 2 2 2 2 2 1 2 2 2 2 2 1 2 2 1 2 2 2 1 2 2 1 2 2 2 1 2 2 1 2 2 2 2 2 2 1\n",
      " 2 2 1 1 2 1 1 1 2 2 2 2 2 2 1]\n",
      "Sklearn KNN predictions: [2 2 2 2 2 2 2 2 2 1 2 1 1 2 1 2 2 1 1 2 2 1 2 1 2 2 1 2 2 1 2 1 2 1 2 2 1\n",
      " 1 2 2 1 2 2 2 2 2 2 1 1 2 2 1 1 1 2 2 1 2 2 2 2 2 2 1 2 2 2 1 2 2 2 1 2 2\n",
      " 1 1 2 2 1 1 1 2 1 2 2 2 1 1 2 2 2 2 2 2 2 2 2 2 1 2 2 2 2 2 2 2 2 1 2 2 2\n",
      " 2 2 2 2 2 1 2 2 2 2 2 2 1 2 1 2 2 2 2 2 2 2 2 1 1 2 2 2 2 2 2 1 1 1 2 2 2\n",
      " 1 2 2 2 2 2 1 2 2 2 2 2 1 2 2 1 2 2 2 1 2 2 1 2 2 2 1 2 2 1 2 2 2 2 2 2 1\n",
      " 2 2 1 1 2 1 1 1 2 2 2 2 2 2 1]\n"
     ]
    }
   ],
   "source": [
    "# Predictions using sklearn KNeighborsClassifier\n",
    "knn_sklearn = KNeighborsClassifier(n_neighbors=3)\n",
    "knn_sklearn.fit(x_train, class_train)\n",
    "class_test_pred_sklearn = knn_sklearn.predict(x_test)\n",
    "\n",
    "print(f\"Custom KNN predictions: {class_test_pred}\")\n",
    "print(f\"Sklearn KNN predictions: {class_test_pred_sklearn}\")"
   ]
  },
  {
   "cell_type": "code",
   "execution_count": 12,
   "metadata": {
    "ExecuteTime": {
     "end_time": "2024-10-11T07:08:17.354199Z",
     "start_time": "2024-10-11T07:08:09.192331Z"
    }
   },
   "outputs": [
    {
     "name": "stdout",
     "output_type": "stream",
     "text": [
      "9.9 ms ± 2.79 ms per loop (mean ± std. dev. of 7 runs, 100 loops each)\n"
     ]
    }
   ],
   "source": [
    "%%timeit\n",
    "knn_sklearn = KNeighborsClassifier(n_neighbors=3)\n",
    "knn_sklearn.fit(x_train, class_train)\n",
    "knn_sklearn.predict(x_test)\n"
   ]
  },
  {
   "cell_type": "code",
   "execution_count": 13,
   "metadata": {
    "ExecuteTime": {
     "end_time": "2024-10-11T07:08:20.034685Z",
     "start_time": "2024-10-11T07:08:17.441922Z"
    }
   },
   "outputs": [
    {
     "name": "stdout",
     "output_type": "stream",
     "text": [
      "2.98 ms ± 37.8 μs per loop (mean ± std. dev. of 7 runs, 100 loops each)\n"
     ]
    }
   ],
   "source": [
    "%%timeit\n",
    "KNN_algorithm(x_train, class_train, x_test, 3)"
   ]
  },
  {
   "cell_type": "markdown",
   "metadata": {},
   "source": [
    "Our customized version seems to be faster than the scikit-learn's KNN. However, our dataset only contains 100 observations, which is quite small. The scikit-learn's KNN should be faster on larger datasets."
   ]
  },
  {
   "cell_type": "markdown",
   "metadata": {},
   "source": [
    "### B. Application to a real dataset (Breast cancer Wisconsin).\n",
    "\n",
    "6\\. Apply the K-NN classifier to the real dataset `data/wdbc12.data.txt.` Further details about the data are provided in `data/wdbc12.names.txt`.\n",
    "\n",
    "> Hint: you can use the function [`train_test_split` from `sklearn.model_selection`](https://scikit-learn.org/stable/modules/generated/sklearn.model_selection.train_test_split.html) to split the dataset into a training and a test set."
   ]
  },
  {
   "cell_type": "markdown",
   "metadata": {},
   "source": [
    "**Answer:**"
   ]
  },
  {
   "cell_type": "code",
   "metadata": {
    "ExecuteTime": {
     "end_time": "2024-10-14T15:04:38.888232Z",
     "start_time": "2024-10-14T15:04:38.685937Z"
    }
   },
   "source": [
    "# load the data\n",
    "data = np.loadtxt('data/wdbc12.data.txt', delimiter=',')\n",
    "attributes = data[:,2:]\n",
    "labels = data[:,1]\n",
    "\n",
    "x_train, x_test, class_train, class_test = train_test_split(attributes, labels, random_state=42)\n",
    "class_train = class_train.astype(int)\n",
    "class_test = class_test.astype(int)\n",
    "\n",
    "N_train = x_train.shape[0]\n",
    "N_test = x_test.shape[0]"
   ],
   "outputs": [],
   "execution_count": 11
  },
  {
   "cell_type": "code",
   "metadata": {
    "ExecuteTime": {
     "end_time": "2024-10-14T15:04:40.907755Z",
     "start_time": "2024-10-14T15:04:40.325327Z"
    }
   },
   "source": [
    "error_rate = np.zeros(20)\n",
    "for k in range (1,21):\n",
    "    class_test_pred=KNN_algorithm(x_train, class_train, x_test, k)\n",
    "    sum=np.sum(class_test_pred!=class_test)\n",
    "    error_rate[k - 1] = sum/N_test\n",
    "    print(f\"Error rate for {k}-NN algorithm is:{error_rate[k - 1]:.4f}\")\n",
    "plt.plot(np.arange(1,21),error_rate)\n",
    "plt.xticks(range(1,21))\n",
    "plt.xlabel('K values')\n",
    "plt.ylabel(\"Error rate\")\n",
    "plt.title(\"Error rate plot for different $K$ values\")\n",
    "plt.show()"
   ],
   "outputs": [
    {
     "name": "stdout",
     "output_type": "stream",
     "text": [
      "Error rate for 1-NN algorithm is:0.0699\n",
      "Error rate for 2-NN algorithm is:0.0769\n",
      "Error rate for 3-NN algorithm is:0.0699\n",
      "Error rate for 4-NN algorithm is:0.0559\n",
      "Error rate for 5-NN algorithm is:0.0350\n",
      "Error rate for 6-NN algorithm is:0.0490\n",
      "Error rate for 7-NN algorithm is:0.0420\n",
      "Error rate for 8-NN algorithm is:0.0420\n",
      "Error rate for 9-NN algorithm is:0.0420\n",
      "Error rate for 10-NN algorithm is:0.0280\n",
      "Error rate for 11-NN algorithm is:0.0210\n",
      "Error rate for 12-NN algorithm is:0.0210\n",
      "Error rate for 13-NN algorithm is:0.0280\n",
      "Error rate for 14-NN algorithm is:0.0280\n",
      "Error rate for 15-NN algorithm is:0.0350\n",
      "Error rate for 16-NN algorithm is:0.0350\n",
      "Error rate for 17-NN algorithm is:0.0350\n",
      "Error rate for 18-NN algorithm is:0.0280\n",
      "Error rate for 19-NN algorithm is:0.0350\n",
      "Error rate for 20-NN algorithm is:0.0350\n"
     ]
    },
    {
     "data": {
      "text/plain": [
       "<Figure size 640x480 with 1 Axes>"
      ],
      "image/png": "[encoded data removed]"
     },
     "metadata": {},
     "output_type": "display_data"
    }
   ],
   "execution_count": 12
  },
  {
   "cell_type": "code",
   "metadata": {
    "ExecuteTime": {
     "end_time": "2024-10-14T15:05:04.815978Z",
     "start_time": "2024-10-14T15:04:57.792959Z"
    }
   },
   "source": [
    "%%timeit\n",
    "\n",
    "KNN_algorithm(x_train, class_train, x_test, 11)"
   ],
   "outputs": [
    {
     "name": "stdout",
     "output_type": "stream",
     "text": [
      "8.37 ms ± 228 μs per loop (mean ± std. dev. of 7 runs, 100 loops each)\n"
     ]
    }
   ],
   "execution_count": 13
  },
  {
   "cell_type": "code",
   "metadata": {
    "ExecuteTime": {
     "end_time": "2024-10-14T15:05:07.921283Z",
     "start_time": "2024-10-14T15:05:06.166698Z"
    }
   },
   "source": [
    "%%timeit\n",
    "\n",
    "knn_sklearn = KNeighborsClassifier(n_neighbors = 11)\n",
    "knn_sklearn.fit(x_train, class_train)\n",
    "knn_sklearn.predict(x_test)"
   ],
   "outputs": [
    {
     "name": "stdout",
     "output_type": "stream",
     "text": [
      "7.99 ms ± 2.19 ms per loop (mean ± std. dev. of 7 runs, 1 loop each)\n"
     ]
    }
   ],
   "execution_count": 14
  },
  {
   "cell_type": "markdown",
   "metadata": {},
   "source": [
    "As expected and mentioned in the previous question, the scikit-learn's algorithm is faster than ours when there is more data to analyze.\n",
    "\n",
    "To represent the errors here, as we cannot plot them in 2D, we chose to show the confusion matrix, which put the classifications in 4 different categories: true positive, false positive, true negative and false negative."
   ]
  },
  {
   "cell_type": "code",
   "execution_count": 18,
   "metadata": {
    "ExecuteTime": {
     "end_time": "2024-10-11T07:08:27.218467Z",
     "start_time": "2024-10-11T07:08:26.937554Z"
    }
   },
   "outputs": [
    {
     "data": {
      "image/png": "[encoded data removed]",
      "text/plain": [
       "<Figure size 640x480 with 2 Axes>"
      ]
     },
     "metadata": {},
     "output_type": "display_data"
    }
   ],
   "source": [
    "knn_sklearn = KNeighborsClassifier(n_neighbors=11)\n",
    "knn_sklearn.fit(x_train, class_train)\n",
    "class_test_pred = knn_sklearn.predict(x_test)\n",
    "\n",
    "confusion_matrix = confusion_matrix(class_test, class_test_pred)\n",
    "cm_display = ConfusionMatrixDisplay(confusion_matrix = confusion_matrix, display_labels= ['Malignant', 'Benign'])\n",
    "cm_display.plot()\n",
    "plt.show()"
   ]
  },
  {
   "cell_type": "code",
   "execution_count": 19,
   "metadata": {
    "ExecuteTime": {
     "end_time": "2024-10-11T07:08:27.475364Z",
     "start_time": "2024-10-11T07:08:27.305726Z"
    }
   },
   "outputs": [
    {
     "data": {
      "text/plain": [
       "array([2, 1, 1, 2, 2, 1, 1, 1, 2, 2, 2, 1, 2, 1, 2, 1, 2, 2, 2, 1, 1, 2,\n",
       "       1, 2, 2, 2, 2, 2, 2, 1, 2, 2, 2, 2, 2, 2, 1, 2, 1, 2, 2, 1, 2, 2,\n",
       "       2, 2, 2, 2, 2, 2, 1, 1, 2, 2, 2, 2, 2, 1, 2, 2, 2, 1, 1, 2, 2, 2,\n",
       "       1, 1, 2, 2, 1, 1, 2, 1, 2, 2, 2, 1, 2, 2, 1, 2, 2, 1, 1, 1, 1, 1,\n",
       "       2, 2, 2, 2, 2, 2, 2, 2, 1, 1, 2, 1, 1, 2, 1, 1, 2, 2, 2, 1, 2, 2,\n",
       "       1, 2, 2, 1, 2, 1, 2, 2, 2, 1, 2, 2, 2, 1, 2, 1, 1, 2, 2, 1, 1, 1,\n",
       "       2, 2, 1, 1, 2, 2, 2, 1, 2, 1, 2])"
      ]
     },
     "execution_count": 19,
     "metadata": {},
     "output_type": "execute_result"
    }
   ],
   "source": [
    "class_test_pred"
   ]
  },
  {
   "metadata": {},
   "cell_type": "markdown",
   "source": "There are 3 classification errors (2 false negative and 1 false positive), which corresponds to a 2.1% relative error on the test set. For this topic, the prediction of breast cancer, this is an acceptable rate of error."
  },
  {
   "cell_type": "markdown",
   "metadata": {},
   "source": [
    "## <a name=\"ex2\">Exercise 2: Code acceleration with cython</a> [(&#8593;)](#content)\n",
    "\n",
    "Cython allows C code to be easily interfaced with Python. It can be useful to make your code faster for a small coding effort, in particular when using loops. A general approach to optimize your code is outlined in the [Scipy lecture notes, Section 2.4](https://scipy-lectures.org/advanced/optimizing/index.html). Complementary reading about interfacing Python with C can be found in [Section 2.8](https://scipy-lectures.org/advanced/interfacing_with_c/interfacing_with_c.html).\n",
    "\n",
    "1\\. Read carefully the [cython tutorial](http://docs.cython.org/en/latest/src/tutorial/cython_tutorial.html), which describes step by the step how the toy example reported below has been developed."
   ]
  },
  {
   "cell_type": "markdown",
   "metadata": {},
   "source": [
    "**Setup**: Compile the toy example provided in `example_cy/` by running, in the command line (anaconda prompt on windows)"
   ]
  },
  {
   "cell_type": "markdown",
   "metadata": {},
   "source": [
    "```bash\n",
    "cd example_cy && python setup.py build_ext --inplace\n",
    "```"
   ]
  },
  {
   "cell_type": "markdown",
   "metadata": {},
   "source": [
    "Note that the compilation process has been slightly automatised with the instructions reported in `example_cy/setup.py`. To test the module, run"
   ]
  },
  {
   "cell_type": "code",
   "execution_count": 2,
   "metadata": {
    "ExecuteTime": {
     "end_time": "2024-10-09T19:25:02.710005Z",
     "start_time": "2024-10-09T19:24:59.475689Z"
    }
   },
   "outputs": [],
   "source": [
    "!cd example_cy && python setup.py build_ext --inplace"
   ]
  },
  {
   "cell_type": "code",
   "execution_count": 3,
   "metadata": {
    "ExecuteTime": {
     "end_time": "2024-10-09T19:32:12.214656Z",
     "start_time": "2024-10-09T19:32:11.689596Z"
    }
   },
   "outputs": [
    {
     "name": "stdout",
     "output_type": "stream",
     "text": [
      "Hello World\n"
     ]
    }
   ],
   "source": [
    "import example_cy.helloworld as toy\n",
    "\n",
    "toy.printhello()"
   ]
  },
  {
   "cell_type": "markdown",
   "metadata": {},
   "source": [
    "which should display\n",
    "```python\n",
    "Hello World\n",
    "```"
   ]
  },
  {
   "cell_type": "markdown",
   "metadata": {},
   "source": [
    "> Warning: \n",
    "> - do not forget to include an empty `__init__.py` file in the directory where your source code lives (`import` will fail if this is not the case).\n",
    "> - in case you have any setup issue, take a look at the `notes.md` file.\n",
    "> - if the C code and/or the executable do not seem to be regenerated by the build instructions, delete the C code and the executable first, and re-execute the compilation afterwards.\n",
    "> - do not hesitate to restart the Python kernel if necessary when the Cython executable has been re-generated."
   ]
  },
  {
   "cell_type": "markdown",
   "metadata": {},
   "source": [
    "For the compilation to work, we had to delete the given `__init__.py` file, otherwise the compiler gave us an error telling us it couldn't create the file in the selected folder."
   ]
  },
  {
   "cell_type": "markdown",
   "metadata": {},
   "source": [
    "2\\. Read the [Numpy/Cython tutorial](https://cython.readthedocs.io/en/latest/src/userguide/numpy_tutorial.html#numpy-tutorial), focussing on the paragraphs **Cython at a glance**, and **Your Cython environment** until **\"More generic code\"**. An example to compile a `.pyx` file depending on `numpy` is included in `example_np_cy/`."
   ]
  },
  {
   "cell_type": "markdown",
   "metadata": {},
   "source": [
    "> Remarks: \n",
    "> - the `annotate=True` flag in the `setup.py` allows an additional `.html` document to be generated (`<your_module_name>.html`), showing, for each line of the Cython code, the associated C instructions generated. Highlighted in yellow are the interactions with Python: the darker a region appears, the less efficient the generated C code is for this section. Work in priority on these! \n",
    "> - make sure all the previously generated files are deleted to allow the .html report to be generated;\n",
    "> - if you are working on your own machine and don't have a C/C++ compiler installed, read the notes provided in `notes.md`;\n",
    "> - use `cdef` for pure C functions (not exported to Python), `cpdef` should be favored for functions containing C instructions and later called from Python."
   ]
  },
  {
   "cell_type": "markdown",
   "metadata": {},
   "source": [
    "**Answer:**"
   ]
  },
  {
   "cell_type": "code",
   "execution_count": 1,
   "metadata": {
    "ExecuteTime": {
     "end_time": "2024-10-11T07:45:24.180604Z",
     "start_time": "2024-10-11T07:45:23.310758Z"
    }
   },
   "outputs": [],
   "source": [
    "!cd example_np_cy && python setup.py build_ext --inplace"
   ]
  },
  {
   "cell_type": "code",
   "execution_count": 4,
   "metadata": {
    "ExecuteTime": {
     "end_time": "2024-10-09T21:26:32.738076Z",
     "start_time": "2024-10-09T21:26:32.316634Z"
    }
   },
   "outputs": [],
   "source": [
    "array_1 = np.random.uniform(0, 1000, size=(3000, 2000)).astype(np.intc)\n",
    "array_2 = np.random.uniform(0, 1000, size=(3000, 2000)).astype(np.intc)\n",
    "a = 4\n",
    "b = 3\n",
    "c = 9"
   ]
  },
  {
   "cell_type": "code",
   "execution_count": 8,
   "metadata": {
    "ExecuteTime": {
     "end_time": "2024-10-09T20:43:15.846658Z",
     "start_time": "2024-10-09T20:43:15.440053Z"
    }
   },
   "outputs": [],
   "source": [
    "def compute_np(array_1, array_2, a, b, c):\n",
    "    return np.clip(array_1, 2, 10) * a + array_2 * b + c"
   ]
  },
  {
   "cell_type": "code",
   "execution_count": 9,
   "metadata": {
    "ExecuteTime": {
     "end_time": "2024-10-09T20:43:23.366448Z",
     "start_time": "2024-10-09T20:43:17.461667Z"
    }
   },
   "outputs": [
    {
     "name": "stdout",
     "output_type": "stream",
     "text": [
      "58.3 ms ± 8.93 ms per loop (mean ± std. dev. of 7 runs, 10 loops each)\n"
     ]
    }
   ],
   "source": [
    "%%timeit\n",
    "\n",
    "compute_np(array_1, array_2, a, b, c)"
   ]
  },
  {
   "cell_type": "code",
   "execution_count": 5,
   "metadata": {
    "ExecuteTime": {
     "end_time": "2024-10-09T21:26:36.075393Z",
     "start_time": "2024-10-09T21:26:35.874837Z"
    }
   },
   "outputs": [],
   "source": [
    "import example_np_cy.compute as compute_py\n",
    "import example_np_cy.compute_cy as compute_cy"
   ]
  },
  {
   "cell_type": "code",
   "execution_count": 17,
   "metadata": {
    "ExecuteTime": {
     "end_time": "2024-10-09T20:14:54.612628Z",
     "start_time": "2024-10-09T20:14:05.290538Z"
    }
   },
   "outputs": [
    {
     "name": "stdout",
     "output_type": "stream",
     "text": [
      "6.01 s ± 184 ms per loop (mean ± std. dev. of 7 runs, 1 loop each)\n"
     ]
    }
   ],
   "source": [
    "%%timeit\n",
    "\n",
    "compute_py.compute(array_1, array_2, a, b, c)"
   ]
  },
  {
   "cell_type": "code",
   "execution_count": 7,
   "metadata": {
    "ExecuteTime": {
     "end_time": "2024-10-09T21:28:18.904849Z",
     "start_time": "2024-10-09T21:27:59.926997Z"
    }
   },
   "outputs": [
    {
     "name": "stdout",
     "output_type": "stream",
     "text": [
      "26.8 ms ± 3.36 ms per loop (mean ± std. dev. of 7 runs, 100 loops each)\n"
     ]
    }
   ],
   "source": [
    "%%timeit -r 7 -n 100\n",
    "\n",
    "compute_cy.compute(array_1, array_2, a, b, c)"
   ]
  },
  {
   "cell_type": "markdown",
   "metadata": {},
   "source": [
    "When adding types and using memviews, I obtain a code that computes in 43.6ms, whereas the NumPy one computes in 58.3ms. Therefore, it is already faster, as mentioned in the tutorial."
   ]
  },
  {
   "cell_type": "markdown",
   "metadata": {},
   "source": [
    "When I stop bound checking and verifying that negative indices are not used, the cython function computes in 23.5ms, which is twice faster than in the previous case!"
   ]
  },
  {
   "cell_type": "markdown",
   "metadata": {},
   "source": [
    "When using C-contiguous memory views, the cython function computes in 16.8ms! It is quite the same when inferring types, which is logical."
   ]
  },
  {
   "cell_type": "code",
   "execution_count": 8,
   "metadata": {
    "ExecuteTime": {
     "end_time": "2024-10-09T21:29:02.618133Z",
     "start_time": "2024-10-09T21:29:02.398691Z"
    }
   },
   "outputs": [
    {
     "data": {
      "text/plain": [
       "dtype('int32')"
      ]
     },
     "execution_count": 8,
     "metadata": {},
     "output_type": "execute_result"
    }
   ],
   "source": [
    "compute_cy.compute(array_1, array_2, a, b, c).dtype"
   ]
  },
  {
   "cell_type": "code",
   "execution_count": 10,
   "metadata": {
    "ExecuteTime": {
     "end_time": "2024-10-09T21:29:23.877277Z",
     "start_time": "2024-10-09T21:29:23.451483Z"
    }
   },
   "outputs": [
    {
     "data": {
      "text/plain": [
       "dtype('float64')"
      ]
     },
     "execution_count": 10,
     "metadata": {},
     "output_type": "execute_result"
    }
   ],
   "source": [
    "compute_cy.compute(array_1.astype(np.double), array_2.astype(np.double), a, b, c).dtype"
   ]
  },
  {
   "cell_type": "markdown",
   "metadata": {},
   "source": [
    "3\\. Use Cython to implement a faster version of the numpy K-NN classifier implemented in [Exercise 1](#ex1). To do so, apply step-by-step the techniques introduced in the [Numpy/Cython tutorial](https://cython.readthedocs.io/en/latest/src/userguide/numpy_tutorial.html#numpy-tutorial) (*i.e.*, compile and time your code after each step to report the evolution, keeping track of the different versions of the cython function).\n",
    "\n",
    "> Hint: if you keep numpy arrays, make sure you use memory views (see numpy/cython tutorial) to access the elements within it. Be extremely careful with the type of the input arrays (you may need to recast the format of the input elements before entering the function. The `numpy.asarray` function can prove useful).\n",
    "\n",
    "> **Detailed guidelines**: a few notes and *caveat* to help you re-writing your code in cython:\n",
    "> - try to reduce the number of calls to numpy instructions as much as possible;\n",
    "> - **you do not have to optimize everything**. For the KNN function above, most of the time is spent in computing euclidean distances: you can thus focus on optimizing tihs operations by explicitly writing a for loop, which will ensure a minimal interaction with numpy when generating the associated C code at compilation. Calls to other numpy functions can be kept as-is;\n",
    "> - if you need to create an array within the cython function, used np.zeros (**do NOT use python lists**), and use a memory view to access its content;\n",
    "> - specify the type for all variables and numpy arrays. Pay attention to the type of the input arrays passed to the Cython function;\n",
    "> - whenever an array is returned, use memory views and index(es) to efficiently access its content;\n",
    "> - some numpy operators (e.g., broadcasting mechanism) do not work with memory views. In this case, you can directly write for loop(s) to encode the operation of interest (the loops will be optimized out at compile time);\n",
    "> - only use at the final development stage the following cython optimization (not before, as they can crash the program without any help):\n",
    ">\n",
    ">```python\n",
    ">@cython.boundscheck(False)\n",
    ">@cython.wraparound(False)\n",
    ">```"
   ]
  },
  {
   "cell_type": "markdown",
   "metadata": {},
   "source": [
    "**Answer:**"
   ]
  },
  {
   "cell_type": "code",
   "execution_count": 1,
   "metadata": {
    "ExecuteTime": {
     "end_time": "2024-10-11T08:08:27.117223Z",
     "start_time": "2024-10-11T08:08:17.834626Z"
    }
   },
   "outputs": [
    {
     "name": "stdout",
     "output_type": "stream",
     "text": [
      "Compiling knn_several_types.pyx because it changed.\n",
      "[1/1] Cythonizing knn_several_types.pyx\n",
      "knn_several_types.c\n",
      "knn_several_types.c(24049): warning C4244: '='ÿ: conversion de '__int64' en 'double', perte possible de donn‚es\n",
      "knn_several_types.c(24766): warning C4244: '='ÿ: conversion de '__int64' en 'double', perte possible de donn‚es\n",
      "knn_several_types.c(25482): warning C4244: '='ÿ: conversion de '__int64' en 'double', perte possible de donn‚es\n",
      "   Cr‚ation de la bibliothŠque build\\temp.win-amd64-cpython-311\\Release\\knn_several_types.cp311-win_amd64.lib et de l'objet build\\temp.win-amd64-cpython-311\\Release\\knn_several_types.cp311-win_amd64.exp\n",
      "G‚n‚ration de code en cours\n",
      "Fin de la g‚n‚ration du code\n"
     ]
    }
   ],
   "source": [
    "!cd knn && python setup.py build_ext --inplace"
   ]
  },
  {
   "cell_type": "markdown",
   "metadata": {},
   "source": [
    "4\\. Compare the runtime of the two algorithms (using `timeit.timeit`), and conclude about the interest of using cython in this case."
   ]
  },
  {
   "cell_type": "markdown",
   "metadata": {},
   "source": [
    "**Answer:**"
   ]
  },
  {
   "cell_type": "code",
   "execution_count": 2,
   "metadata": {
    "ExecuteTime": {
     "end_time": "2024-10-11T08:08:32.202668Z",
     "start_time": "2024-10-11T08:08:29.511694Z"
    }
   },
   "outputs": [],
   "source": [
    "import numpy as np\n",
    "from sklearn.model_selection import train_test_split\n",
    "\n",
    "data = np.loadtxt('data/wdbc12.data.txt', delimiter=',')\n",
    "attributes = data[:,2:]\n",
    "labels = data[:,1]\n",
    "\n",
    "x_train, x_test, class_train, class_test = train_test_split(attributes, labels, random_state=42)\n",
    "class_train = class_train.astype(int)\n",
    "class_test = class_test.astype(int)\n",
    "x_train = x_train.astype(float)\n",
    "x_test = x_test.astype(float)\n",
    "\n",
    "N_train = x_train.shape[0]\n",
    "N_test = x_test.shape[0]"
   ]
  },
  {
   "cell_type": "code",
   "execution_count": 3,
   "metadata": {
    "ExecuteTime": {
     "end_time": "2024-10-11T08:08:33.582294Z",
     "start_time": "2024-10-11T08:08:32.760732Z"
    }
   },
   "outputs": [
    {
     "data": {
      "text/plain": [
       "array([2, 1, 1, 2, 2, 1, 1, 1, 2, 2, 2, 1, 2, 1, 2, 1, 2, 2, 2, 1, 1, 2,\n",
       "       1, 2, 2, 2, 2, 2, 2, 1, 2, 2, 2, 2, 2, 2, 1, 2, 1, 2, 2, 1, 2, 2,\n",
       "       2, 2, 2, 2, 2, 2, 1, 1, 2, 2, 2, 2, 2, 1, 2, 2, 2, 1, 1, 2, 2, 2,\n",
       "       1, 1, 2, 2, 1, 1, 2, 1, 2, 2, 2, 1, 2, 2, 1, 2, 2, 1, 1, 1, 1, 1,\n",
       "       2, 2, 2, 2, 2, 2, 2, 2, 1, 1, 2, 1, 1, 2, 1, 1, 2, 2, 2, 1, 2, 2,\n",
       "       1, 2, 2, 1, 2, 1, 2, 2, 2, 1, 2, 2, 2, 1, 2, 1, 1, 2, 2, 1, 1, 1,\n",
       "       2, 2, 1, 1, 2, 2, 2, 1, 2, 1, 2])"
      ]
     },
     "execution_count": 3,
     "metadata": {},
     "output_type": "execute_result"
    }
   ],
   "source": [
    "import knn.knn_pure_python as knn_pure_python\n",
    "import knn.knn_typed as knn_typed\n",
    "import knn.knn_memview as knn_memview\n",
    "import knn.knn_contiguous as knn_contiguous\n",
    "import knn.knn_infer_types as knn_infer_types\n",
    "import knn.knn_tuning_indexing as knn_tuning_indexing\n",
    "import knn.knn_several_types as knn_several_types\n",
    "\n",
    "knn_typed.KNN_algorithm(x_train, class_train, x_test, 11)\n",
    "knn_memview.KNN_algorithm(x_train, class_train, x_test, 11)\n",
    "knn_contiguous.KNN_algorithm(x_train, class_train, x_test, 11)\n",
    "knn_infer_types.KNN_algorithm(x_train, class_train, x_test, 11)\n",
    "knn_tuning_indexing.KNN_algorithm(x_train, class_train, x_test, 11)\n",
    "knn_several_types.KNN_algorithm(x_train, class_train, x_test, 11)"
   ]
  },
  {
   "cell_type": "code",
   "execution_count": 6,
   "metadata": {
    "ExecuteTime": {
     "end_time": "2024-10-11T07:51:41.381425Z",
     "start_time": "2024-10-11T07:51:34.494123Z"
    }
   },
   "outputs": [
    {
     "name": "stdout",
     "output_type": "stream",
     "text": [
      "7.64 ms ± 789 μs per loop (mean ± std. dev. of 7 runs, 100 loops each)\n"
     ]
    }
   ],
   "source": [
    "%%timeit\n",
    "## WARNING: it's numpy, not Python\n",
    "knn_pure_python.KNN_algorithm(x_train, class_train, x_test, 11)"
   ]
  },
  {
   "metadata": {},
   "cell_type": "markdown",
   "source": "Even though we called the file 'pure python', this version uses a lot of NumPy vectorization possibilities. Therefore, this version is the NumPy one, and is already very fast. With C, we will try to go faster than the Numpy one."
  },
  {
   "cell_type": "code",
   "execution_count": 7,
   "metadata": {
    "ExecuteTime": {
     "end_time": "2024-10-11T07:51:47.058048Z",
     "start_time": "2024-10-11T07:51:42.773458Z"
    }
   },
   "outputs": [
    {
     "name": "stdout",
     "output_type": "stream",
     "text": [
      "470 ms ± 93 ms per loop (mean ± std. dev. of 7 runs, 1 loop each)\n"
     ]
    }
   ],
   "source": [
    "%%timeit\n",
    "\n",
    "knn_typed.KNN_algorithm(x_train, class_train, x_test, 11)"
   ]
  },
  {
   "cell_type": "code",
   "execution_count": 8,
   "metadata": {
    "ExecuteTime": {
     "end_time": "2024-10-11T07:51:56.888934Z",
     "start_time": "2024-10-11T07:51:49.776751Z"
    }
   },
   "outputs": [
    {
     "name": "stdout",
     "output_type": "stream",
     "text": [
      "7.32 ms ± 336 μs per loop (mean ± std. dev. of 7 runs, 100 loops each)\n"
     ]
    }
   ],
   "source": [
    "%%timeit\n",
    "\n",
    "knn_memview.KNN_algorithm(x_train, class_train, x_test, 11)"
   ]
  },
  {
   "cell_type": "code",
   "execution_count": 4,
   "metadata": {
    "ExecuteTime": {
     "end_time": "2024-10-11T07:56:34.743555Z",
     "start_time": "2024-10-11T07:56:27.539110Z"
    }
   },
   "outputs": [
    {
     "name": "stdout",
     "output_type": "stream",
     "text": [
      "7.83 ms ± 610 μs per loop (mean ± std. dev. of 7 runs, 100 loops each)\n"
     ]
    }
   ],
   "source": [
    "%%timeit\n",
    "\n",
    "knn_contiguous.KNN_algorithm(x_train, class_train, x_test, 11)"
   ]
  },
  {
   "cell_type": "code",
   "execution_count": 4,
   "metadata": {
    "ExecuteTime": {
     "end_time": "2024-10-11T08:03:16.312515Z",
     "start_time": "2024-10-11T08:03:09.148916Z"
    }
   },
   "outputs": [
    {
     "name": "stdout",
     "output_type": "stream",
     "text": [
      "7.8 ms ± 525 μs per loop (mean ± std. dev. of 7 runs, 100 loops each)\n"
     ]
    }
   ],
   "source": [
    "%%timeit\n",
    "\n",
    "knn_infer_types.KNN_algorithm(x_train, class_train, x_test, 11)"
   ]
  },
  {
   "cell_type": "code",
   "execution_count": 5,
   "metadata": {
    "ExecuteTime": {
     "end_time": "2024-10-11T08:03:23.911680Z",
     "start_time": "2024-10-11T08:03:20.161664Z"
    }
   },
   "outputs": [
    {
     "name": "stdout",
     "output_type": "stream",
     "text": [
      "4.03 ms ± 487 μs per loop (mean ± std. dev. of 7 runs, 100 loops each)\n"
     ]
    }
   ],
   "source": [
    "%%timeit\n",
    "\n",
    "knn_tuning_indexing.KNN_algorithm(x_train, class_train, x_test, 11)"
   ]
  },
  {
   "cell_type": "code",
   "execution_count": 4,
   "metadata": {
    "ExecuteTime": {
     "end_time": "2024-10-11T08:08:48.395672Z",
     "start_time": "2024-10-11T08:08:44.538986Z"
    }
   },
   "outputs": [
    {
     "name": "stdout",
     "output_type": "stream",
     "text": [
      "4.2 ms ± 1.18 ms per loop (mean ± std. dev. of 7 runs, 100 loops each)\n"
     ]
    }
   ],
   "source": [
    "%%timeit\n",
    "\n",
    "knn_several_types.KNN_algorithm(x_train, class_train, x_test, 11)"
   ]
  },
  {
   "metadata": {},
   "cell_type": "markdown",
   "source": "When finished, the function computes in roughly 4ms, which is very faster, and about as twice faster as the version with NumPy!"
  },
  {
   "cell_type": "markdown",
   "metadata": {},
   "source": [
    "## <a name=\"ex3\">Exercise 3: Code acceleration with numba</a> [(&#8593;)](#content)\n",
    "\n",
    "`numba` is a just-in-time (JIT) compiler which translates Python codes into efficient machine code at runtime. A significant acceleration can be obtained by adding a few simple decorators to a standard Python function, up to a few restrictions detailed [here](http://numba.pydata.org/numba-doc/latest/user/performance-tips.html).\n",
    "\n",
    "If you have written most of the KNN classifier of exercise 1 with numpy, there is little to no chance that you will get an acceleration with numba (justifying the use of cython in this case). An interesting acceleration factor can however be obtained for the computation of the total variation investigated in session 2."
   ]
  },
  {
   "cell_type": "markdown",
   "metadata": {},
   "source": [
    "1\\. Take a look at the [numba 5 min tour](http://numba.pydata.org/numba-doc/latest/user/5minguide.html), and accelerate the total variation code from session 2 with the `@jit` decorator. You may have to rewrite small portions of your code to get the expected acceleration (see [performance tips](http://numba.pydata.org/numba-doc/latest/user/performance-tips.html))."
   ]
  },
  {
   "cell_type": "markdown",
   "metadata": {},
   "source": [
    "**Answer:**"
   ]
  },
  {
   "metadata": {},
   "cell_type": "markdown",
   "source": "As Numba, with nopython, cannot comprehend np.diff, we decided to compute the differences by hand."
  },
  {
   "cell_type": "code",
   "metadata": {
    "ExecuteTime": {
     "end_time": "2024-10-14T15:23:32.699732Z",
     "start_time": "2024-10-14T15:23:32.522597Z"
    }
   },
   "source": [
    "@jit\n",
    "def gradient2D_numba(X):\n",
    "    XD_h = np.zeros_like(X)\n",
    "    XD_v = np.zeros_like(X)\n",
    "    \n",
    "    N,M = X.shape\n",
    "\n",
    "    for i in range(N):\n",
    "        for j in range(M - 1):\n",
    "            XD_h[i, j] = X[i, j + 1] - X[i, j]\n",
    "        XD_h[i, -1] = 0\n",
    "    \n",
    "    for i in range(N - 1):\n",
    "        for j in range(M):\n",
    "            XD_v[i, j] = X[i + 1, j] - X[i, j]\n",
    "    XD_v[-1, :] = 0\n",
    "\n",
    "    return XD_h, XD_v\n",
    "\n",
    "\n",
    "@jit\n",
    "def tv_numba(X):\n",
    "    \"\"\"Compute discrete isotropic total variation (TV) of a matrix X\n",
    "\n",
    "    Args:\n",
    "        X (np.ndarray): an input matrix\n",
    "\n",
    "    Returns:\n",
    "        float: the TV of X\n",
    "    \"\"\"\n",
    "    XDh, XDv=gradient2D_numba(X)\n",
    "\n",
    "    return np.sum(np.sqrt(XDh**2+XDv**2))"
   ],
   "outputs": [],
   "execution_count": 34
  },
  {
   "cell_type": "code",
   "metadata": {
    "ExecuteTime": {
     "end_time": "2024-10-14T15:23:57.378477Z",
     "start_time": "2024-10-14T15:23:57.200684Z"
    }
   },
   "source": [
    "rng = np.random.default_rng(106620185328035836413676238315917800117)\n",
    "X = rng.random((100, 100))"
   ],
   "outputs": [],
   "execution_count": 39
  },
  {
   "metadata": {
    "ExecuteTime": {
     "end_time": "2024-10-14T15:24:08.070152Z",
     "start_time": "2024-10-14T15:24:05.096470Z"
    }
   },
   "cell_type": "code",
   "source": [
    "%%timeit -n 10000\n",
    "\n",
    "tv_numba(X)"
   ],
   "outputs": [
    {
     "name": "stdout",
     "output_type": "stream",
     "text": [
      "39.9 μs ± 2.41 μs per loop (mean ± std. dev. of 7 runs, 10,000 loops each)\n"
     ]
    }
   ],
   "execution_count": 41
  },
  {
   "cell_type": "markdown",
   "metadata": {},
   "source": [
    "2\\. Compare the runtime of the your numpy implementation and the `numba`-accelerated version (using `timeit.timeit`). \n",
    "> **Warning**: first run the numba version once to trigger the compilation, and then time it as usual. This is needed to avoid including the JIT compilation step in the runtime."
   ]
  },
  {
   "cell_type": "markdown",
   "metadata": {},
   "source": [
    "**Answer:**"
   ]
  },
  {
   "cell_type": "code",
   "metadata": {
    "ExecuteTime": {
     "end_time": "2024-10-14T15:24:10.977501Z",
     "start_time": "2024-10-14T15:24:10.796325Z"
    }
   },
   "source": [
    "def gradient2D(X):\n",
    "    ## NB : the documentation is made in Q3\n",
    "    if X.ndim != 2: raise ValueError(\"Input array must be 2-dimensional.\")\n",
    "\n",
    "    XD_h = np.diff(X, axis=1, append=X[:, -1:]) # append last column for boundary\n",
    "    XD_v = np.diff(X, axis=0, append=X[-1:, :]) # append last line for boundary\n",
    "\n",
    "    return XD_h, XD_v\n",
    "\n",
    "def tv(X):\n",
    "    \"\"\"Compute discrete isotropic total variation (TV) of a matrix X\n",
    "\n",
    "    Args:\n",
    "        X (np.ndarray): an input matrix\n",
    "\n",
    "    Returns:\n",
    "        float: the TV of X\n",
    "    \"\"\"\n",
    "    XDh, XDv=gradient2D(X)\n",
    "\n",
    "    return np.sum(np.sqrt(XDh**2+XDv**2))"
   ],
   "outputs": [],
   "execution_count": 42
  },
  {
   "cell_type": "code",
   "metadata": {
    "ExecuteTime": {
     "end_time": "2024-10-14T15:24:19.900810Z",
     "start_time": "2024-10-14T15:24:12.418105Z"
    }
   },
   "source": [
    "%%timeit -n 10000\n",
    "\n",
    "tv(X)"
   ],
   "outputs": [
    {
     "name": "stdout",
     "output_type": "stream",
     "text": [
      "104 μs ± 40.3 μs per loop (mean ± std. dev. of 7 runs, 10,000 loops each)\n"
     ]
    }
   ],
   "execution_count": 43
  },
  {
   "metadata": {},
   "cell_type": "markdown",
   "source": "As expected, the numba version is faster than our NumPy version (40μs v. 100μs). Still, both versions are very fast. The acceleration using numba is faster than using cython, but there is less modularity."
  }
 ],
 "metadata": {
  "file_extension": ".py",
  "kernelspec": {
   "display_name": "base",
   "language": "python",
   "name": "python3"
  },
  "language_info": {
   "codemirror_mode": {
    "name": "ipython",
    "version": 3
   },
   "file_extension": ".py",
   "mimetype": "text/x-python",
   "name": "python",
   "nbconvert_exporter": "python",
   "pygments_lexer": "ipython3",
   "version": "3.8.8"
  },
  "mimetype": "text/x-python",
  "name": "python",
  "npconvert_exporter": "python",
  "pygments_lexer": "ipython3",
  "version": 3
 },
 "nbformat": 4,
 "nbformat_minor": 4
}
