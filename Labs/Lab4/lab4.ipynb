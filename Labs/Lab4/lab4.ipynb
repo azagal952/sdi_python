{
 "cells": [
  {
   "cell_type": "markdown",
   "metadata": {},
   "source": [
    "# Practical session 4 - K-nearest neighbours (K-NN) classification with numpy, scikit-learn, cython and numba\n",
    "\n",
    "Students (pair):\n",
    "- [BLANQUART Ekhi](https://github.com/azagal952)\n",
    "- [DENISSELLE Alexis](https://github.com/AlexisDns23)"
   ]
  },
  {
   "cell_type": "markdown",
   "metadata": {},
   "source": [
    "**Useful references for this lab**:\n",
    "\n",
    "[1] scikit-learn: [documentation](https://scikit-learn.org/stable/modules/neighbors.html?highlight=knn%20classification)\n",
    "\n",
    "[2] `numba`: [documentation](http://numba.pydata.org/) \n",
    "\n",
    "[3] cython: [a very useful tutorial](https://cython.readthedocs.io/en/latest/src/userguide/numpy_tutorial.html#numpy-tutorial), and [another one](http://docs.cython.org/en/latest/src/tutorial/cython_tutorial.html)\n",
    "\n",
    "\n",
    "\n",
    "## <a name=\"content\">Contents</a>\n",
    "- [Exercise 1: KNN classification with numpy and sklearn](#ex1)\n",
    "- [Exercise 2: Code acceleration with cython](#ex2)\n",
    "- [Exercise 3: Code acceleration with numba](#ex3)\n",
    "---"
   ]
  },
  {
   "cell_type": "code",
   "metadata": {
    "ExecuteTime": {
     "end_time": "2024-10-09T21:26:04.756164Z",
     "start_time": "2024-10-09T21:26:03.711146Z"
    }
   },
   "source": [
    "%load_ext autoreload\n",
    "%autoreload 2\n",
    "\n",
    "%load_ext Cython"
   ],
   "outputs": [],
   "execution_count": 1
  },
  {
   "cell_type": "code",
   "metadata": {
    "ExecuteTime": {
     "end_time": "2024-10-09T21:26:10.420052Z",
     "start_time": "2024-10-09T21:26:05.424492Z"
    }
   },
   "source": [
    "import numpy as np\n",
    "import matplotlib.pyplot as plt\n",
    "from sklearn.neighbors import KNeighborsClassifier\n",
    "from sklearn.model_selection import train_test_split\n",
    "from sklearn.metrics import confusion_matrix, ConfusionMatrixDisplay"
   ],
   "outputs": [],
   "execution_count": 2
  },
  {
   "cell_type": "markdown",
   "metadata": {},
   "source": [
    "## <a name=\"ex1\">Exercise 1: K-Nearest Neighbours (K-NN) classification with numpy and scikit-learn</a> [(&#8593;)](#content)"
   ]
  },
  {
   "cell_type": "markdown",
   "metadata": {},
   "source": [
    "This session is a first introduction to classification using the most intuitive non parametric method: the $K$-nearest neighbours. The principle is [the following](https://scikit-learn.org/stable/modules/neighbors.html?highlight=knn%20classification). A set of labelled observations is given as a learning set. A classification taks then consists in assigning a label to any new observation. In particular, the K-NN approach consists in assigning to the observation the most frequent label among its $K$ nearest neighbours taken in the training set."
   ]
  },
  {
   "cell_type": "markdown",
   "metadata": {},
   "source": [
    "### A. Validation on synthetic data\n",
    "\n",
    "Load the training and test datasets `data/synth_train.txt` and `data/synth_test.txt`. Targets belong to the set $\\{1,2\\}$ and entries belong to $\\mathbb{R}^2$. The file `data/synth_train.txt` contain 100 training data samples, and `data/synth_test.txt` contains 200 test samples, where:\n",
    "\n",
    "- the 1st column contains the label of the class the sample;\n",
    "- columns 2 & 3 contain the coordinates of each sample (in $\\mathbb{R}^2$).\n",
    "\n",
    "Useful commands can be found below."
   ]
  },
  {
   "cell_type": "markdown",
   "metadata": {},
   "source": [
    "```python\n",
    "# load the training set\n",
    "train = np.loadtxt('data/synth_train.txt')  #...,delimiter=',') if there are ',' as delimiters\n",
    "class_train = train[:,0]\n",
    "x_train = train[:,1:]\n",
    "N_train = train.shape[0]\n",
    "```"
   ]
  },
  {
   "cell_type": "markdown",
   "metadata": {},
   "source": [
    "```python\n",
    "# load the test set\n",
    "test = np.loadtxt('/datasynth_test.txt') \n",
    "class_test_1 = test[test[:,0]==1]\n",
    "class_test_2 = test[test[:,0]==2]\n",
    "x_test = test[:,1:]\n",
    "N_test = test.shape[0]\n",
    "```"
   ]
  },
  {
   "cell_type": "markdown",
   "metadata": {},
   "source": [
    "1\\. Display the training set and distinguish the two classes. \n",
    "\n",
    "> Hint: useful functions include `matplotlib.pyplot.scatter` or `matplotlib.pyplot.plot`."
   ]
  },
  {
   "cell_type": "markdown",
   "metadata": {},
   "source": [
    "**Answer:**"
   ]
  },
  {
   "cell_type": "code",
   "metadata": {
    "ExecuteTime": {
     "end_time": "2024-10-09T10:10:07.306530Z",
     "start_time": "2024-10-09T10:10:06.913106Z"
    }
   },
   "source": [
    "# load the training set\n",
    "train = np.loadtxt('data/synth_train.txt')\n",
    "class_train = train[:, 0].astype(int) # labels of the train set\n",
    "class_train_1 = train[train[:, 0] == 1]\n",
    "class_train_2 = train[train[:, 0] == 2]\n",
    "x_train = train[:, 1:]\n",
    "\n",
    "# load the test set\n",
    "test = np.loadtxt('data/synth_test.txt')\n",
    "class_test = test[:, 0].astype(int)\n",
    "class_test_1 = test[test[:, 0] == 1]\n",
    "class_test_2 = test[test[:, 0] == 2]\n",
    "x_test = test[:, 1:]\n",
    "\n",
    "N_train = train.shape[0]\n",
    "N_test = test.shape[0]"
   ],
   "outputs": [],
   "execution_count": 3
  },
  {
   "cell_type": "code",
   "metadata": {
    "ExecuteTime": {
     "end_time": "2024-10-09T10:10:08.272700Z",
     "start_time": "2024-10-09T10:10:07.387857Z"
    }
   },
   "source": [
    "plt.scatter(class_train_1[:, 1], class_train_1[:, 2], color='red',  label='Class 1')\n",
    "plt.scatter(class_train_2[:, 1], class_train_2[:, 2], color='blue', label='Class 2')\n",
    "x=np.array([[-2,0],[1.5,3.7]])\n",
    "plt.plot(x[:,0],x[:,1], '-', color='purple')\n",
    "plt.legend(loc = 'best')\n",
    "plt.show()"
   ],
   "outputs": [
    {
     "data": {
      "text/plain": [
       "<Figure size 640x480 with 1 Axes>"
      ],
      "image/png": "[encoded data removed]"
     },
     "metadata": {},
     "output_type": "display_data"
    }
   ],
   "execution_count": 4
  },
  {
   "cell_type": "markdown",
   "metadata": {},
   "source": [
    "2\\. Implement the K-nearest neighbours algorithm for classification.\n",
    "\n",
    "> Hint: \n",
    "> - useful functions include `numpy.linalg.norm`, `numpy.argsort`, `numpy.bincount`;\n",
    "> - implement the algorithm as a function rather than an object. This will drastically simplify the acceleration step using Cython.\n",
    "> - for an optimized partial sorting procedure, you may have a look at the [`bottleneck.argpartition` function](https://bottleneck.readthedocs.io/en/latest/reference.html#bottleneck.argpartition)."
   ]
  },
  {
   "cell_type": "markdown",
   "metadata": {},
   "source": [
    "**Answer:**"
   ]
  },
  {
   "cell_type": "code",
   "metadata": {
    "ExecuteTime": {
     "end_time": "2024-10-09T10:10:08.816754Z",
     "start_time": "2024-10-09T10:10:08.361013Z"
    }
   },
   "source": [
    "def KNN_algorithm(x_train, class_train, x_test, k):\n",
    "    \"\"\"Perform the K-nearest neighbours algorithm for classification\n",
    "\n",
    "    Args:\n",
    "        x_train (np.ndarray): matrix of coordinates of the train set\n",
    "        class_train (np.ndarray): labels of points in train set\n",
    "        x_test (np.ndarray): matrix of coordinates of the test set\n",
    "        k (int): Number of nearest neighbours to consider\n",
    "\n",
    "    Returns:\n",
    "        np.ndarray: predicted labels for x_test\n",
    "    \"\"\"\n",
    "    class_test_pred = np.zeros(x_test.shape[0], dtype=class_train.dtype)\n",
    "\n",
    "    for i, test_point in enumerate(x_test):\n",
    "        ## For each point of the test set, we compute the distance between each point of x_train and this test point.\n",
    "        distances = np.linalg.norm(x_train - test_point, axis=1)\n",
    "\n",
    "        ## We select indexes of the k points of x_train for which the distance with the point of x_test is minimal\n",
    "        nearest_neighbor_ids = np.argsort(distances)[:k]\n",
    "\n",
    "        nearest_neighbor_labels = class_train[nearest_neighbor_ids]\n",
    "        class_test_pred[i] = np.bincount(nearest_neighbor_labels).argmax()\n",
    "\n",
    "    return class_test_pred"
   ],
   "outputs": [],
   "execution_count": 5
  },
  {
   "cell_type": "markdown",
   "metadata": {},
   "source": [
    "3\\. Compute the error rate on the training set and the test set for $K \\in \\{1,2, \\dotsc, 20\\}$. Display the classification result (see 1.) for the configuration with the lowest error rate."
   ]
  },
  {
   "cell_type": "markdown",
   "metadata": {},
   "source": [
    "**Answer:**"
   ]
  },
  {
   "cell_type": "code",
   "metadata": {
    "ExecuteTime": {
     "end_time": "2024-10-09T10:10:09.805527Z",
     "start_time": "2024-10-09T10:10:08.910772Z"
    }
   },
   "source": [
    "error_rate = np.zeros(20)\n",
    "for k in range (1,21):\n",
    "    class_test_pred=KNN_algorithm(x_train, class_train, x_test, k)\n",
    "    sum=np.sum(class_test_pred!=class_test)\n",
    "    error_rate[k - 1] = sum/N_test\n",
    "    print(f\"Error rate for {k}-NN algorithm is:{error_rate[k - 1]}\")\n",
    "plt.plot(np.arange(1,21),error_rate)\n",
    "plt.xticks(range(1,21))\n",
    "plt.xlabel('K values')\n",
    "plt.ylabel(\"Error rate\")\n",
    "plt.show()"
   ],
   "outputs": [
    {
     "name": "stdout",
     "output_type": "stream",
     "text": [
      "Error rate for 1-NN algorithm is:0.065\n",
      "Error rate for 2-NN algorithm is:0.06\n",
      "Error rate for 3-NN algorithm is:0.045\n",
      "Error rate for 4-NN algorithm is:0.05\n",
      "Error rate for 5-NN algorithm is:0.06\n",
      "Error rate for 6-NN algorithm is:0.055\n",
      "Error rate for 7-NN algorithm is:0.07\n",
      "Error rate for 8-NN algorithm is:0.07\n",
      "Error rate for 9-NN algorithm is:0.075\n",
      "Error rate for 10-NN algorithm is:0.075\n",
      "Error rate for 11-NN algorithm is:0.09\n",
      "Error rate for 12-NN algorithm is:0.075\n",
      "Error rate for 13-NN algorithm is:0.08\n",
      "Error rate for 14-NN algorithm is:0.075\n",
      "Error rate for 15-NN algorithm is:0.075\n",
      "Error rate for 16-NN algorithm is:0.075\n",
      "Error rate for 17-NN algorithm is:0.08\n",
      "Error rate for 18-NN algorithm is:0.08\n",
      "Error rate for 19-NN algorithm is:0.08\n",
      "Error rate for 20-NN algorithm is:0.08\n"
     ]
    },
    {
     "data": {
      "text/plain": [
       "<Figure size 640x480 with 1 Axes>"
      ],
      "image/png": "[encoded data removed]"
     },
     "metadata": {},
     "output_type": "display_data"
    }
   ],
   "execution_count": 6
  },
  {
   "cell_type": "code",
   "metadata": {
    "ExecuteTime": {
     "end_time": "2024-10-09T10:10:10.652578Z",
     "start_time": "2024-10-09T10:10:09.880110Z"
    }
   },
   "source": [
    "class_test_pred=KNN_algorithm(x_train, class_train, x_test, 3)\n",
    "\n",
    "false_positive = test[(test[:, 0] == 1) & (class_test_pred == 2)]\n",
    "false_negative = test[(test[:, 0] == 2) & (class_test_pred == 1)]\n",
    "true_positive  = test[(test[:, 0] == 2) & (class_test_pred == 2)]\n",
    "true_negative  = test[(test[:, 0] == 1) & (class_test_pred == 1)]\n",
    "\n",
    "\n",
    "plt.scatter(false_positive[:, 1], false_positive[:, 2], color='green', marker='x',  label='Class 1, predicted 2')\n",
    "plt.scatter(false_negative[:, 1], false_negative[:, 2], color='yellow', marker='x', label='Class 2, predicted 1')\n",
    "plt.scatter(true_positive[:, 1], true_positive[:, 2], color='red',  label='Class 1, predicted 1')\n",
    "plt.scatter(true_negative[:, 1], true_negative[:, 2], color='blue', label='Class 2, predicted 2')\n",
    "x=np.array([[-2,0],[1.5,3.7]])\n",
    "plt.plot(x[:,0],x[:,1], '-', color='purple')\n",
    "plt.legend(loc = 'best')\n",
    "plt.show()"
   ],
   "outputs": [
    {
     "data": {
      "text/plain": [
       "<Figure size 640x480 with 1 Axes>"
      ],
      "image/png": "[encoded data removed]"
     },
     "metadata": {},
     "output_type": "display_data"
    }
   ],
   "execution_count": 7
  },
  {
   "cell_type": "markdown",
   "metadata": {},
   "source": [
    "4\\. Comment on your results. Which value of $K$ seems optimal ?\n"
   ]
  },
  {
   "cell_type": "markdown",
   "metadata": {},
   "source": [
    "**Answer:**"
   ]
  },
  {
   "cell_type": "markdown",
   "metadata": {
    "ExecuteTime": {
     "end_time": "2024-10-03T06:16:43.947240Z",
     "start_time": "2024-10-03T06:16:43.796607Z"
    }
   },
   "source": [
    "The error rate is minimal for K=3. We observe that the errors of prediction are mostly made around the decision boundary."
   ]
  },
  {
   "cell_type": "markdown",
   "metadata": {},
   "source": [
    "5\\. Compare the results of you implementation with those of [`sklearn.neighbors.KNeighborsClassifier`](https://scikit-learn.org/stable/modules/generated/sklearn.neighbors.KNeighborsClassifier.html?highlight=kneighborsclassifier#sklearn.neighbors.KNeighborsClassifier). Compare the runtime of these two versions using the [`timeit`](https://docs.python.org/3/library/timeit.html) module (see session 1)."
   ]
  },
  {
   "cell_type": "markdown",
   "metadata": {},
   "source": [
    "**Answer:**"
   ]
  },
  {
   "cell_type": "code",
   "metadata": {
    "ExecuteTime": {
     "end_time": "2024-10-09T10:10:11.111560Z",
     "start_time": "2024-10-09T10:10:10.737123Z"
    }
   },
   "source": [
    "# Predictions using sklearn KNeighborsClassifier\n",
    "knn_sklearn = KNeighborsClassifier(n_neighbors=3)\n",
    "knn_sklearn.fit(x_train, class_train)\n",
    "class_test_pred_sklearn = knn_sklearn.predict(x_test)\n",
    "\n",
    "print(f\"Custom KNN predictions: {class_test_pred}\")\n",
    "print(f\"Sklearn KNN predictions: {class_test_pred_sklearn}\")"
   ],
   "outputs": [
    {
     "name": "stdout",
     "output_type": "stream",
     "text": [
      "Custom KNN predictions: [2 2 2 2 2 2 2 2 2 1 2 1 1 2 1 2 2 1 1 2 2 1 2 1 2 2 1 2 2 1 2 1 2 1 2 2 1\n",
      " 1 2 2 1 2 2 2 2 2 2 1 1 2 2 1 1 1 2 2 1 2 2 2 2 2 2 1 2 2 2 1 2 2 2 1 2 2\n",
      " 1 1 2 2 1 1 1 2 1 2 2 2 1 1 2 2 2 2 2 2 2 2 2 2 1 2 2 2 2 2 2 2 2 1 2 2 2\n",
      " 2 2 2 2 2 1 2 2 2 2 2 2 1 2 1 2 2 2 2 2 2 2 2 1 1 2 2 2 2 2 2 1 1 1 2 2 2\n",
      " 1 2 2 2 2 2 1 2 2 2 2 2 1 2 2 1 2 2 2 1 2 2 1 2 2 2 1 2 2 1 2 2 2 2 2 2 1\n",
      " 2 2 1 1 2 1 1 1 2 2 2 2 2 2 1]\n",
      "Sklearn KNN predictions: [2 2 2 2 2 2 2 2 2 1 2 1 1 2 1 2 2 1 1 2 2 1 2 1 2 2 1 2 2 1 2 1 2 1 2 2 1\n",
      " 1 2 2 1 2 2 2 2 2 2 1 1 2 2 1 1 1 2 2 1 2 2 2 2 2 2 1 2 2 2 1 2 2 2 1 2 2\n",
      " 1 1 2 2 1 1 1 2 1 2 2 2 1 1 2 2 2 2 2 2 2 2 2 2 1 2 2 2 2 2 2 2 2 1 2 2 2\n",
      " 2 2 2 2 2 1 2 2 2 2 2 2 1 2 1 2 2 2 2 2 2 2 2 1 1 2 2 2 2 2 2 1 1 1 2 2 2\n",
      " 1 2 2 2 2 2 1 2 2 2 2 2 1 2 2 1 2 2 2 1 2 2 1 2 2 2 1 2 2 1 2 2 2 2 2 2 1\n",
      " 2 2 1 1 2 1 1 1 2 2 2 2 2 2 1]\n"
     ]
    }
   ],
   "execution_count": 8
  },
  {
   "cell_type": "code",
   "metadata": {
    "ExecuteTime": {
     "end_time": "2024-10-09T10:10:15.062559Z",
     "start_time": "2024-10-09T10:10:11.205017Z"
    }
   },
   "source": [
    "%%timeit\n",
    "knn_sklearn = KNeighborsClassifier(n_neighbors=3)\n",
    "knn_sklearn.fit(x_train, class_train)\n",
    "knn_sklearn.predict(x_test)\n"
   ],
   "outputs": [
    {
     "name": "stdout",
     "output_type": "stream",
     "text": [
      "44.4 ms ± 14.6 ms per loop (mean ± std. dev. of 7 runs, 10 loops each)\n"
     ]
    }
   ],
   "execution_count": 9
  },
  {
   "cell_type": "code",
   "metadata": {
    "ExecuteTime": {
     "end_time": "2024-10-09T10:10:23.478612Z",
     "start_time": "2024-10-09T10:10:15.229645Z"
    }
   },
   "source": [
    "%%timeit\n",
    "KNN_algorithm(x_train, class_train, x_test, 3)"
   ],
   "outputs": [
    {
     "name": "stdout",
     "output_type": "stream",
     "text": [
      "9.18 ms ± 1.25 ms per loop (mean ± std. dev. of 7 runs, 100 loops each)\n"
     ]
    }
   ],
   "execution_count": 10
  },
  {
   "cell_type": "markdown",
   "metadata": {},
   "source": [
    "Our customized version seems to be faster than the scikit-learn's KNN. However, our dataset only contains 100 observations, which is quite small. The scikit-learn's KNN should be faster on larger datasets."
   ]
  },
  {
   "cell_type": "markdown",
   "metadata": {},
   "source": [
    "### B. Application to a real dataset (Breast cancer Wisconsin).\n",
    "\n",
    "6\\. Apply the K-NN classifier to the real dataset `data/wdbc12.data.txt.` Further details about the data are provided in `data/wdbc12.names.txt`.\n",
    "\n",
    "> Hint: you can use the function [`train_test_split` from `sklearn.model_selection`](https://scikit-learn.org/stable/modules/generated/sklearn.model_selection.train_test_split.html) to split the dataset into a training and a test set."
   ]
  },
  {
   "cell_type": "markdown",
   "metadata": {},
   "source": [
    "**Answer:**"
   ]
  },
  {
   "cell_type": "code",
   "metadata": {
    "ExecuteTime": {
     "end_time": "2024-10-09T10:10:23.825675Z",
     "start_time": "2024-10-09T10:10:23.524708Z"
    }
   },
   "source": [
    "# load the data\n",
    "data = np.loadtxt('data/wdbc12.data.txt', delimiter=',')\n",
    "attributes = data[:,2:]\n",
    "labels = data[:,1]\n",
    "\n",
    "x_train, x_test, class_train, class_test = train_test_split(attributes, labels, random_state=42)\n",
    "class_train = class_train.astype(int)\n",
    "class_test = class_test.astype(int)\n",
    "\n",
    "N_train = x_train.shape[0]\n",
    "N_test = x_test.shape[0]"
   ],
   "outputs": [],
   "execution_count": 11
  },
  {
   "metadata": {
    "ExecuteTime": {
     "end_time": "2024-10-09T10:10:24.801328Z",
     "start_time": "2024-10-09T10:10:23.936699Z"
    }
   },
   "cell_type": "code",
   "source": [
    "error_rate = np.zeros(20)\n",
    "for k in range (1,21):\n",
    "    class_test_pred=KNN_algorithm(x_train, class_train, x_test, k)\n",
    "    sum=np.sum(class_test_pred!=class_test)\n",
    "    error_rate[k - 1] = sum/N_test\n",
    "    print(f\"Error rate for {k}-NN algorithm is:{error_rate[k - 1]:.4f}\")\n",
    "plt.plot(np.arange(1,21),error_rate)\n",
    "plt.xticks(range(1,21))\n",
    "plt.xlabel('K values')\n",
    "plt.ylabel(\"Error rate\")\n",
    "plt.show()"
   ],
   "outputs": [
    {
     "name": "stdout",
     "output_type": "stream",
     "text": [
      "Error rate for 1-NN algorithm is:0.0699\n",
      "Error rate for 2-NN algorithm is:0.0769\n",
      "Error rate for 3-NN algorithm is:0.0699\n",
      "Error rate for 4-NN algorithm is:0.0559\n",
      "Error rate for 5-NN algorithm is:0.0350\n",
      "Error rate for 6-NN algorithm is:0.0490\n",
      "Error rate for 7-NN algorithm is:0.0420\n",
      "Error rate for 8-NN algorithm is:0.0420\n",
      "Error rate for 9-NN algorithm is:0.0420\n",
      "Error rate for 10-NN algorithm is:0.0280\n",
      "Error rate for 11-NN algorithm is:0.0210\n",
      "Error rate for 12-NN algorithm is:0.0210\n",
      "Error rate for 13-NN algorithm is:0.0280\n",
      "Error rate for 14-NN algorithm is:0.0280\n",
      "Error rate for 15-NN algorithm is:0.0350\n",
      "Error rate for 16-NN algorithm is:0.0350\n",
      "Error rate for 17-NN algorithm is:0.0350\n",
      "Error rate for 18-NN algorithm is:0.0280\n",
      "Error rate for 19-NN algorithm is:0.0350\n",
      "Error rate for 20-NN algorithm is:0.0350\n"
     ]
    },
    {
     "data": {
      "text/plain": [
       "<Figure size 640x480 with 1 Axes>"
      ],
      "image/png": "[encoded data removed]"
     },
     "metadata": {},
     "output_type": "display_data"
    }
   ],
   "execution_count": 12
  },
  {
   "metadata": {
    "ExecuteTime": {
     "end_time": "2024-10-09T10:10:38.580473Z",
     "start_time": "2024-10-09T10:10:24.906935Z"
    }
   },
   "cell_type": "code",
   "source": [
    "%%timeit\n",
    "\n",
    "KNN_algorithm(x_train, class_train, x_test, 11)\n",
    "\n",
    "# false_positive = test[(test[:, 0] == 1) & (class_test_pred == 2)]\n",
    "# false_negative = test[(test[:, 0] == 2) & (class_test_pred == 1)]\n",
    "# true_positive  = test[(test[:, 0] == 2) & (class_test_pred == 2)]\n",
    "# true_negative  = test[(test[:, 0] == 1) & (class_test_pred == 1)]"
   ],
   "outputs": [
    {
     "name": "stdout",
     "output_type": "stream",
     "text": [
      "17.5 ms ± 6.29 ms per loop (mean ± std. dev. of 7 runs, 100 loops each)\n"
     ]
    }
   ],
   "execution_count": 13
  },
  {
   "metadata": {
    "ExecuteTime": {
     "end_time": "2024-10-09T10:10:39.679666Z",
     "start_time": "2024-10-09T10:10:38.621691Z"
    }
   },
   "cell_type": "code",
   "source": [
    "%%timeit\n",
    "\n",
    "knn_sklearn = KNeighborsClassifier(n_neighbors = 11)\n",
    "knn_sklearn.fit(x_train, class_train)\n",
    "knn_sklearn.predict(x_test)"
   ],
   "outputs": [
    {
     "name": "stdout",
     "output_type": "stream",
     "text": [
      "7.56 ms ± 1.69 ms per loop (mean ± std. dev. of 7 runs, 1 loop each)\n"
     ]
    }
   ],
   "execution_count": 14
  },
  {
   "metadata": {},
   "cell_type": "markdown",
   "source": "As expected and mentioned in the previous question, the scikit-learn's algorithm is faster than ours when there is more data to analyze."
  },
  {
   "metadata": {
    "ExecuteTime": {
     "end_time": "2024-10-09T10:10:40.272292Z",
     "start_time": "2024-10-09T10:10:39.734111Z"
    }
   },
   "cell_type": "code",
   "source": [
    "knn_sklearn = KNeighborsClassifier(n_neighbors=11)\n",
    "knn_sklearn.fit(x_train, class_train)\n",
    "class_test_pred = knn_sklearn.predict(x_test)\n",
    "\n",
    "confusion_matrix = confusion_matrix(class_test, class_test_pred)\n",
    "cm_display = ConfusionMatrixDisplay(confusion_matrix = confusion_matrix, display_labels= ['Malignant', 'Benign'])\n",
    "cm_display.plot()\n",
    "plt.show()"
   ],
   "outputs": [
    {
     "data": {
      "text/plain": [
       "<Figure size 640x480 with 2 Axes>"
      ],
      "image/png": "[encoded data removed]"
     },
     "metadata": {},
     "output_type": "display_data"
    }
   ],
   "execution_count": 15
  },
  {
   "metadata": {},
   "cell_type": "raw",
   "source": "There are 3 classification errors (2 false negative and 1 false positive), which corresponds to a 2.1% relative error on the test set. For this topic, the prediction of breast cancer, this is an acceptable rate of error."
  },
  {
   "cell_type": "markdown",
   "metadata": {},
   "source": [
    "## <a name=\"ex2\">Exercise 2: Code acceleration with cython</a> [(&#8593;)](#content)\n",
    "\n",
    "Cython allows C code to be easily interfaced with Python. It can be useful to make your code faster for a small coding effort, in particular when using loops. A general approach to optimize your code is outlined in the [Scipy lecture notes, Section 2.4](https://scipy-lectures.org/advanced/optimizing/index.html). Complementary reading about interfacing Python with C can be found in [Section 2.8](https://scipy-lectures.org/advanced/interfacing_with_c/interfacing_with_c.html).\n",
    "\n",
    "1\\. Read carefully the [cython tutorial](http://docs.cython.org/en/latest/src/tutorial/cython_tutorial.html), which describes step by the step how the toy example reported below has been developed."
   ]
  },
  {
   "cell_type": "markdown",
   "metadata": {},
   "source": [
    "**Setup**: Compile the toy example provided in `example_cy/` by running, in the command line (anaconda prompt on windows)"
   ]
  },
  {
   "cell_type": "markdown",
   "metadata": {},
   "source": [
    "```bash\n",
    "cd example_cy && python setup.py build_ext --inplace\n",
    "```"
   ]
  },
  {
   "cell_type": "markdown",
   "metadata": {},
   "source": [
    "Note that the compilation process has been slightly automatised with the instructions reported in `example_cy/setup.py`. To test the module, run"
   ]
  },
  {
   "cell_type": "code",
   "metadata": {
    "ExecuteTime": {
     "end_time": "2024-10-09T19:25:02.710005Z",
     "start_time": "2024-10-09T19:24:59.475689Z"
    }
   },
   "source": [
    "!cd example_cy && python setup.py build_ext --inplace"
   ],
   "outputs": [],
   "execution_count": 2
  },
  {
   "cell_type": "code",
   "metadata": {
    "ExecuteTime": {
     "end_time": "2024-10-09T19:32:12.214656Z",
     "start_time": "2024-10-09T19:32:11.689596Z"
    }
   },
   "source": [
    "import example_cy.helloworld as toy\n",
    "\n",
    "toy.printhello()"
   ],
   "outputs": [
    {
     "name": "stdout",
     "output_type": "stream",
     "text": [
      "Hello World\n"
     ]
    }
   ],
   "execution_count": 3
  },
  {
   "cell_type": "markdown",
   "metadata": {},
   "source": [
    "which should display\n",
    "```python\n",
    "Hello World\n",
    "```"
   ]
  },
  {
   "cell_type": "markdown",
   "metadata": {},
   "source": [
    "> Warning: \n",
    "> - do not forget to include an empty `__init__.py` file in the directory where your source code lives (`import` will fail if this is not the case).\n",
    "> - in case you have any setup issue, take a look at the `notes.md` file.\n",
    "> - if the C code and/or the executable do not seem to be regenerated by the build instructions, delete the C code and the executable first, and re-execute the compilation afterwards.\n",
    "> - do not hesitate to restart the Python kernel if necessary when the Cython executable has been re-generated."
   ]
  },
  {
   "metadata": {},
   "cell_type": "markdown",
   "source": "For the compilation to work, we had to delete the given `__init__.py` file, otherwise the compiler gave us an error telling us it couldn't create the file in the selected folder."
  },
  {
   "cell_type": "markdown",
   "metadata": {},
   "source": [
    "2\\. Read the [Numpy/Cython tutorial](https://cython.readthedocs.io/en/latest/src/userguide/numpy_tutorial.html#numpy-tutorial), focussing on the paragraphs **Cython at a glance**, and **Your Cython environment** until **\"More generic code\"**. An example to compile a `.pyx` file depending on `numpy` is included in `example_np_cy/`."
   ]
  },
  {
   "cell_type": "markdown",
   "metadata": {},
   "source": [
    "> Remarks: \n",
    "> - the `annotate=True` flag in the `setup.py` allows an additional `.html` document to be generated (`<your_module_name>.html`), showing, for each line of the Cython code, the associated C instructions generated. Highlighted in yellow are the interactions with Python: the darker a region appears, the less efficient the generated C code is for this section. Work in priority on these! \n",
    "> - make sure all the previously generated files are deleted to allow the .html report to be generated;\n",
    "> - if you are working on your own machine and don't have a C/C++ compiler installed, read the notes provided in `notes.md`;\n",
    "> - use `cdef` for pure C functions (not exported to Python), `cpdef` should be favored for functions containing C instructions and later called from Python."
   ]
  },
  {
   "cell_type": "markdown",
   "metadata": {},
   "source": [
    "**Answer:**"
   ]
  },
  {
   "cell_type": "code",
   "metadata": {
    "ExecuteTime": {
     "end_time": "2024-10-09T21:26:27.694234Z",
     "start_time": "2024-10-09T21:26:16.830812Z"
    }
   },
   "source": "!cd example_np_cy && python setup.py build_ext --inplace",
   "outputs": [
    {
     "name": "stdout",
     "output_type": "stream",
     "text": [
      "Compiling compute_cy.pyx because it changed.\n",
      "[1/1] Cythonizing compute_cy.pyx\n",
      "compute_cy.c\n",
      "   Cr‚ation de la bibliothŠque build\\temp.win-amd64-cpython-311\\Release\\compute_cy.cp311-win_amd64.lib et de l'objet build\\temp.win-amd64-cpython-311\\Release\\compute_cy.cp311-win_amd64.exp\n",
      "G‚n‚ration de code en cours\n",
      "Fin de la g‚n‚ration du code\n"
     ]
    }
   ],
   "execution_count": 3
  },
  {
   "metadata": {
    "ExecuteTime": {
     "end_time": "2024-10-09T21:26:32.738076Z",
     "start_time": "2024-10-09T21:26:32.316634Z"
    }
   },
   "cell_type": "code",
   "source": [
    "array_1 = np.random.uniform(0, 1000, size=(3000, 2000)).astype(np.intc)\n",
    "array_2 = np.random.uniform(0, 1000, size=(3000, 2000)).astype(np.intc)\n",
    "a = 4\n",
    "b = 3\n",
    "c = 9"
   ],
   "outputs": [],
   "execution_count": 4
  },
  {
   "metadata": {
    "ExecuteTime": {
     "end_time": "2024-10-09T20:43:15.846658Z",
     "start_time": "2024-10-09T20:43:15.440053Z"
    }
   },
   "cell_type": "code",
   "source": [
    "def compute_np(array_1, array_2, a, b, c):\n",
    "    return np.clip(array_1, 2, 10) * a + array_2 * b + c"
   ],
   "outputs": [],
   "execution_count": 8
  },
  {
   "metadata": {
    "ExecuteTime": {
     "end_time": "2024-10-09T20:43:23.366448Z",
     "start_time": "2024-10-09T20:43:17.461667Z"
    }
   },
   "cell_type": "code",
   "source": [
    "%%timeit\n",
    "\n",
    "compute_np(array_1, array_2, a, b, c)"
   ],
   "outputs": [
    {
     "name": "stdout",
     "output_type": "stream",
     "text": [
      "58.3 ms ± 8.93 ms per loop (mean ± std. dev. of 7 runs, 10 loops each)\n"
     ]
    }
   ],
   "execution_count": 9
  },
  {
   "metadata": {
    "ExecuteTime": {
     "end_time": "2024-10-09T21:26:36.075393Z",
     "start_time": "2024-10-09T21:26:35.874837Z"
    }
   },
   "cell_type": "code",
   "source": [
    "import example_np_cy.compute as compute_py\n",
    "import example_np_cy.compute_cy as compute_cy"
   ],
   "outputs": [],
   "execution_count": 5
  },
  {
   "metadata": {
    "ExecuteTime": {
     "end_time": "2024-10-09T20:14:54.612628Z",
     "start_time": "2024-10-09T20:14:05.290538Z"
    }
   },
   "cell_type": "code",
   "source": [
    "%%timeit\n",
    "\n",
    "compute_py.compute(array_1, array_2, a, b, c)"
   ],
   "outputs": [
    {
     "name": "stdout",
     "output_type": "stream",
     "text": [
      "6.01 s ± 184 ms per loop (mean ± std. dev. of 7 runs, 1 loop each)\n"
     ]
    }
   ],
   "execution_count": 17
  },
  {
   "metadata": {
    "ExecuteTime": {
     "end_time": "2024-10-09T21:28:18.904849Z",
     "start_time": "2024-10-09T21:27:59.926997Z"
    }
   },
   "cell_type": "code",
   "source": [
    "%%timeit -r 7 -n 100\n",
    "\n",
    "compute_cy.compute(array_1, array_2, a, b, c)"
   ],
   "outputs": [
    {
     "name": "stdout",
     "output_type": "stream",
     "text": [
      "26.8 ms ± 3.36 ms per loop (mean ± std. dev. of 7 runs, 100 loops each)\n"
     ]
    }
   ],
   "execution_count": 7
  },
  {
   "metadata": {},
   "cell_type": "markdown",
   "source": "When adding types and using memviews, I obtain a code that computes in 43.6ms, whereas the NumPy one computes in 58.3ms. Therefore, it is already faster, as mentioned in the tutorial."
  },
  {
   "metadata": {},
   "cell_type": "markdown",
   "source": "When I stop bound checking and verifying that negative indices are not used, the cython function computes in 23.5ms, which is twice faster than in the previous case!"
  },
  {
   "metadata": {},
   "cell_type": "markdown",
   "source": "When using C-contiguous memory views, the cython function computes in 16.8ms! It is quite the same when inferring types, which is logical."
  },
  {
   "metadata": {
    "ExecuteTime": {
     "end_time": "2024-10-09T21:29:02.618133Z",
     "start_time": "2024-10-09T21:29:02.398691Z"
    }
   },
   "cell_type": "code",
   "source": "compute_cy.compute(array_1, array_2, a, b, c).dtype",
   "outputs": [
    {
     "data": {
      "text/plain": [
       "dtype('int32')"
      ]
     },
     "execution_count": 8,
     "metadata": {},
     "output_type": "execute_result"
    }
   ],
   "execution_count": 8
  },
  {
   "metadata": {
    "ExecuteTime": {
     "end_time": "2024-10-09T21:29:23.877277Z",
     "start_time": "2024-10-09T21:29:23.451483Z"
    }
   },
   "cell_type": "code",
   "source": "compute_cy.compute(array_1.astype(np.double), array_2.astype(np.double), a, b, c).dtype",
   "outputs": [
    {
     "data": {
      "text/plain": [
       "dtype('float64')"
      ]
     },
     "execution_count": 10,
     "metadata": {},
     "output_type": "execute_result"
    }
   ],
   "execution_count": 10
  },
  {
   "cell_type": "markdown",
   "metadata": {},
   "source": [
    "3\\. Use Cython to implement a faster version of the numpy K-NN classifier implemented in [Exercise 1](#ex1). To do so, apply step-by-step the techniques introduced in the [Numpy/Cython tutorial](https://cython.readthedocs.io/en/latest/src/userguide/numpy_tutorial.html#numpy-tutorial) (*i.e.*, compile and time your code after each step to report the evolution, keeping track of the different versions of the cython function).\n",
    "\n",
    "> Hint: if you keep numpy arrays, make sure you use memory views (see numpy/cython tutorial) to access the elements within it. Be extremely careful with the type of the input arrays (you may need to recast the format of the input elements before entering the function. The `numpy.asarray` function can prove useful).\n",
    "\n",
    "> **Detailed guidelines**: a few notes and *caveat* to help you re-writing your code in cython:\n",
    "> - try to reduce the number of calls to numpy instructions as much as possible;\n",
    "> - **you do not have to optimize everything**. For the KNN function above, most of the time is spent in computing euclidean distances: you can thus focus on optimizing tihs operations by explicitly writing a for loop, which will ensure a minimal interaction with numpy when generating the associated C code at compilation. Calls to other numpy functions can be kept as-is;\n",
    "> - if you need to create an array within the cython function, used np.zeros (**do NOT use python lists**), and use a memory view to access its content;\n",
    "> - specify the type for all variables and numpy arrays. Pay attention to the type of the input arrays passed to the Cython function;\n",
    "> - whenever an array is returned, use memory views and index(es) to efficiently access its content;\n",
    "> - some numpy operators (e.g., broadcasting mechanism) do not work with memory views. In this case, you can directly write for loop(s) to encode the operation of interest (the loops will be optimized out at compile time);\n",
    "> - only use at the final development stage the following cython optimization (not before, as they can crash the program without any help):\n",
    ">\n",
    ">```python\n",
    ">@cython.boundscheck(False)\n",
    ">@cython.wraparound(False)\n",
    ">```"
   ]
  },
  {
   "cell_type": "markdown",
   "metadata": {},
   "source": [
    "**Answer:**"
   ]
  },
  {
   "cell_type": "code",
   "metadata": {
    "ExecuteTime": {
     "end_time": "2024-10-09T10:10:42.779316Z",
     "start_time": "2024-10-09T10:10:42.558160Z"
    }
   },
   "source": [
    "# your code"
   ],
   "outputs": [],
   "execution_count": 19
  },
  {
   "cell_type": "markdown",
   "metadata": {},
   "source": [
    "4\\. Compare the runtime of the two algorithms (using `timeit.timeit`), and conclude about the interest of using cython in this case."
   ]
  },
  {
   "cell_type": "markdown",
   "metadata": {},
   "source": [
    "**Answer:**"
   ]
  },
  {
   "cell_type": "code",
   "metadata": {
    "ExecuteTime": {
     "end_time": "2024-10-09T10:10:43.057776Z",
     "start_time": "2024-10-09T10:10:42.835922Z"
    }
   },
   "source": [
    "# your code"
   ],
   "outputs": [],
   "execution_count": 20
  },
  {
   "cell_type": "markdown",
   "metadata": {},
   "source": [
    "## <a name=\"ex3\">Exercise 3: Code acceleration with numba</a> [(&#8593;)](#content)\n",
    "\n",
    "`numba` is a just-in-time (JIT) compiler which translates Python codes into efficient machine code at runtime. A significant acceleration can be obtained by adding a few simple decorators to a standard Python function, up to a few restrictions detailed [here](http://numba.pydata.org/numba-doc/latest/user/performance-tips.html).\n",
    "\n",
    "If you have written most of the KNN classifier of exercise 1 with numpy, there is little to no chance that you will get an acceleration with numba (justifying the use of cython in this case). An interesting acceleration factor can however be obtained for the computation of the total variation investigated in session 2."
   ]
  },
  {
   "cell_type": "markdown",
   "metadata": {},
   "source": [
    "1\\. Take a look at the [numba 5 min tour](http://numba.pydata.org/numba-doc/latest/user/5minguide.html), and accelerate the total variation code from session 2 with the `@jit` decorator. You may have to rewrite small portions of your code to get the expected acceleration (see [performance tips](http://numba.pydata.org/numba-doc/latest/user/performance-tips.html))."
   ]
  },
  {
   "cell_type": "markdown",
   "metadata": {},
   "source": [
    "**Answer:**"
   ]
  },
  {
   "cell_type": "code",
   "metadata": {
    "ExecuteTime": {
     "end_time": "2024-10-09T10:10:43.306112Z",
     "start_time": "2024-10-09T10:10:43.108680Z"
    }
   },
   "source": [
    "# your code"
   ],
   "outputs": [],
   "execution_count": 21
  },
  {
   "cell_type": "markdown",
   "metadata": {},
   "source": [
    "2\\. Compare the runtime of the your numpy implementation and the `numba`-accelerated version (using `timeit.timeit`). \n",
    "> **Warning**: first run the numba version once to trigger the compilation, and then time it as usual. This is needed to avoid including the JIT compilation step in the runtime."
   ]
  },
  {
   "cell_type": "markdown",
   "metadata": {},
   "source": [
    "**Answer:**"
   ]
  },
  {
   "cell_type": "code",
   "metadata": {
    "ExecuteTime": {
     "end_time": "2024-10-09T10:10:43.605184Z",
     "start_time": "2024-10-09T10:10:43.438818Z"
    }
   },
   "source": [
    "# your code"
   ],
   "outputs": [],
   "execution_count": 22
  }
 ],
 "metadata": {
  "file_extension": ".py",
  "kernelspec": {
   "display_name": "Python 3.8.10 64-bit",
   "language": "python",
   "name": "python3"
  },
  "language_info": {
   "codemirror_mode": {
    "name": "ipython",
    "version": 3
   },
   "file_extension": ".py",
   "mimetype": "text/x-python",
   "name": "python",
   "nbconvert_exporter": "python",
   "pygments_lexer": "ipython3",
   "version": "3.8.8"
  },
  "mimetype": "text/x-python",
  "name": "python",
  "npconvert_exporter": "python",
  "pygments_lexer": "ipython3",
  "version": 3,
  "vscode": {
   "interpreter": {
    "hash": "916dbcbb3f70747c44a77c7bcd40155683ae19c65e1c03b4aa3499c5328201f1"
   }
  }
 },
 "nbformat": 4,
 "nbformat_minor": 4
}
